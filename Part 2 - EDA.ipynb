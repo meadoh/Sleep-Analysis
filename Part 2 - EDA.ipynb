{
 "cells": [
  {
   "cell_type": "markdown",
   "metadata": {},
   "source": [
    "## EDA\n",
    "\n",
    "**Approach:**\n",
    "- Overall stats\n",
    "- Sleep\n",
    "- Health conditions\n",
    "- Age\n",
    "- Income/working hours\n",
    "- Night workers\n",
    "- Naps \n",
    "    \n",
    "**Initial Results**\n",
    "- Participants average 6.7 hours of sleep per night (.3 below the recommended value)\n",
    "- Participants are averaging more hours than what is considered a normal work week (45 vs 40).\n",
    "- Amount of time spent working and acid reflux are the biggest causes of poor sleep.\n",
    "- The most common awake times are between 6:00am and 6:15am. This is as expected.\n",
    "- Aside from high blood pressure all percentages of observed health conditions are higher in those who are not getting adequate  sleep. The recurring trend is that heartburn is the worst offender, with an increase from 6% (for those getting < 7 hours of sleep) to 11% (for those getting > 7 hours of sleep).\n",
    "- No correlation between age and amount of sleep.\n",
    "- Participants making under 15,000 annually are more likely to have health conditions and poor sleep. They are also more likely to be treated for depression, anxiety and diabetes.\n",
    "\n",
    "**Outliers:**  \n",
    "- A few participants average under 3 hours of sleep per night. \n",
    "\n",
    "**Impuation**\n",
    "- Non-answers (refused/don't know) were imputed with either the mean or the mode. \n",
    "- length_of_naps had nans as those participants did not take naps. This were given a value of 0.  \n",
    "\n",
    "**Next steps:**\n",
    "- Based on the EDA, sleep-based features should be able predict presence of a health condition."
   ]
  },
  {
   "cell_type": "markdown",
   "metadata": {},
   "source": [
    "## Import"
   ]
  },
  {
   "cell_type": "code",
   "execution_count": 1,
   "metadata": {},
   "outputs": [],
   "source": [
    "import numpy as np\n",
    "import pandas as pd\n",
    "import matplotlib.pyplot as plt\n",
    "import seaborn as sns"
   ]
  },
  {
   "cell_type": "markdown",
   "metadata": {},
   "source": [
    "## Data"
   ]
  },
  {
   "cell_type": "code",
   "execution_count": 2,
   "metadata": {},
   "outputs": [],
   "source": [
    "df = pd.read_csv('./datasets/sleep_EDA.csv', index_col = [0])"
   ]
  },
  {
   "cell_type": "code",
   "execution_count": 3,
   "metadata": {},
   "outputs": [
    {
     "data": {
      "text/plain": [
       "awake_time                           0\n",
       "start_work                           0\n",
       "end_work                             0\n",
       "bed_time_work_tomorrow               0\n",
       "no_work_awake_time                   0\n",
       "bed_time_no_work_tomorrow            0\n",
       "usual_sleep_per_night                0\n",
       "naps_per_month                       0\n",
       "length_of_average_nap                0\n",
       "employment_status                    0\n",
       "avg_weekly_hours_worked              0\n",
       "snores                               0\n",
       "treated_for_heart_disease            0\n",
       "treated_for_high_blood_pressure      0\n",
       "treated_for_diabetes                 0\n",
       "treated_for_heartburn_GERD           0\n",
       "treated_for_arthritis                0\n",
       "treated_for_depression               0\n",
       "treated_for_anxiety                  0\n",
       "age                                  0\n",
       "marital_status                       3\n",
       "highest_edu                          0\n",
       "single_dual_household                0\n",
       "house_hold_income_bracket          301\n",
       "unconvential_awake_time              0\n",
       "poor_sleep                           0\n",
       "has_condition                        0\n",
       "overworked                           0\n",
       "dtype: int64"
      ]
     },
     "execution_count": 3,
     "metadata": {},
     "output_type": "execute_result"
    }
   ],
   "source": [
    "df.isnull().sum()"
   ]
  },
  {
   "cell_type": "markdown",
   "metadata": {},
   "source": [
    "## Preliminary Stats"
   ]
  },
  {
   "cell_type": "code",
   "execution_count": 4,
   "metadata": {},
   "outputs": [
    {
     "data": {
      "text/html": [
       "<div>\n",
       "<style scoped>\n",
       "    .dataframe tbody tr th:only-of-type {\n",
       "        vertical-align: middle;\n",
       "    }\n",
       "\n",
       "    .dataframe tbody tr th {\n",
       "        vertical-align: top;\n",
       "    }\n",
       "\n",
       "    .dataframe thead th {\n",
       "        text-align: right;\n",
       "    }\n",
       "</style>\n",
       "<table border=\"1\" class=\"dataframe\">\n",
       "  <thead>\n",
       "    <tr style=\"text-align: right;\">\n",
       "      <th></th>\n",
       "      <th>usual_sleep_per_night</th>\n",
       "      <th>naps_per_month</th>\n",
       "      <th>length_of_average_nap</th>\n",
       "      <th>employment_status</th>\n",
       "      <th>avg_weekly_hours_worked</th>\n",
       "      <th>snores</th>\n",
       "      <th>treated_for_heart_disease</th>\n",
       "      <th>treated_for_high_blood_pressure</th>\n",
       "      <th>treated_for_diabetes</th>\n",
       "      <th>treated_for_heartburn_GERD</th>\n",
       "      <th>treated_for_arthritis</th>\n",
       "      <th>treated_for_depression</th>\n",
       "      <th>treated_for_anxiety</th>\n",
       "      <th>age</th>\n",
       "      <th>unconvential_awake_time</th>\n",
       "      <th>poor_sleep</th>\n",
       "      <th>has_condition</th>\n",
       "      <th>overworked</th>\n",
       "    </tr>\n",
       "  </thead>\n",
       "  <tbody>\n",
       "    <tr>\n",
       "      <th>count</th>\n",
       "      <td>1000.000000</td>\n",
       "      <td>1000.000000</td>\n",
       "      <td>1000.000000</td>\n",
       "      <td>1000.000000</td>\n",
       "      <td>1000.000000</td>\n",
       "      <td>1000.000000</td>\n",
       "      <td>1000.000000</td>\n",
       "      <td>1000.000000</td>\n",
       "      <td>1000.000000</td>\n",
       "      <td>1000.000000</td>\n",
       "      <td>1000.000000</td>\n",
       "      <td>1000.000000</td>\n",
       "      <td>1000.000000</td>\n",
       "      <td>1000.000000</td>\n",
       "      <td>1000.00000</td>\n",
       "      <td>1000.000000</td>\n",
       "      <td>1000.000000</td>\n",
       "      <td>1000.000000</td>\n",
       "    </tr>\n",
       "    <tr>\n",
       "      <th>mean</th>\n",
       "      <td>6.655158</td>\n",
       "      <td>3.494000</td>\n",
       "      <td>31.717000</td>\n",
       "      <td>2.006000</td>\n",
       "      <td>44.918000</td>\n",
       "      <td>2.144000</td>\n",
       "      <td>0.053000</td>\n",
       "      <td>0.218000</td>\n",
       "      <td>0.067000</td>\n",
       "      <td>0.085000</td>\n",
       "      <td>0.078000</td>\n",
       "      <td>0.068000</td>\n",
       "      <td>0.045000</td>\n",
       "      <td>47.232416</td>\n",
       "      <td>0.13900</td>\n",
       "      <td>0.476000</td>\n",
       "      <td>0.370000</td>\n",
       "      <td>0.443000</td>\n",
       "    </tr>\n",
       "    <tr>\n",
       "      <th>std</th>\n",
       "      <td>1.149458</td>\n",
       "      <td>6.384099</td>\n",
       "      <td>42.802371</td>\n",
       "      <td>0.368917</td>\n",
       "      <td>10.351446</td>\n",
       "      <td>2.027159</td>\n",
       "      <td>0.224146</td>\n",
       "      <td>0.413094</td>\n",
       "      <td>0.250147</td>\n",
       "      <td>0.279021</td>\n",
       "      <td>0.268306</td>\n",
       "      <td>0.251872</td>\n",
       "      <td>0.207408</td>\n",
       "      <td>11.773514</td>\n",
       "      <td>0.34612</td>\n",
       "      <td>0.499674</td>\n",
       "      <td>0.483046</td>\n",
       "      <td>0.496989</td>\n",
       "    </tr>\n",
       "    <tr>\n",
       "      <th>min</th>\n",
       "      <td>1.000000</td>\n",
       "      <td>0.000000</td>\n",
       "      <td>0.000000</td>\n",
       "      <td>1.000000</td>\n",
       "      <td>30.000000</td>\n",
       "      <td>0.000000</td>\n",
       "      <td>0.000000</td>\n",
       "      <td>0.000000</td>\n",
       "      <td>0.000000</td>\n",
       "      <td>0.000000</td>\n",
       "      <td>0.000000</td>\n",
       "      <td>0.000000</td>\n",
       "      <td>0.000000</td>\n",
       "      <td>18.000000</td>\n",
       "      <td>0.00000</td>\n",
       "      <td>0.000000</td>\n",
       "      <td>0.000000</td>\n",
       "      <td>0.000000</td>\n",
       "    </tr>\n",
       "    <tr>\n",
       "      <th>25%</th>\n",
       "      <td>6.000000</td>\n",
       "      <td>0.000000</td>\n",
       "      <td>0.000000</td>\n",
       "      <td>2.000000</td>\n",
       "      <td>40.000000</td>\n",
       "      <td>0.000000</td>\n",
       "      <td>0.000000</td>\n",
       "      <td>0.000000</td>\n",
       "      <td>0.000000</td>\n",
       "      <td>0.000000</td>\n",
       "      <td>0.000000</td>\n",
       "      <td>0.000000</td>\n",
       "      <td>0.000000</td>\n",
       "      <td>39.000000</td>\n",
       "      <td>0.00000</td>\n",
       "      <td>0.000000</td>\n",
       "      <td>0.000000</td>\n",
       "      <td>0.000000</td>\n",
       "    </tr>\n",
       "    <tr>\n",
       "      <th>50%</th>\n",
       "      <td>7.000000</td>\n",
       "      <td>1.000000</td>\n",
       "      <td>15.000000</td>\n",
       "      <td>2.000000</td>\n",
       "      <td>40.000000</td>\n",
       "      <td>1.000000</td>\n",
       "      <td>0.000000</td>\n",
       "      <td>0.000000</td>\n",
       "      <td>0.000000</td>\n",
       "      <td>0.000000</td>\n",
       "      <td>0.000000</td>\n",
       "      <td>0.000000</td>\n",
       "      <td>0.000000</td>\n",
       "      <td>48.000000</td>\n",
       "      <td>0.00000</td>\n",
       "      <td>0.000000</td>\n",
       "      <td>0.000000</td>\n",
       "      <td>0.000000</td>\n",
       "    </tr>\n",
       "    <tr>\n",
       "      <th>75%</th>\n",
       "      <td>7.500000</td>\n",
       "      <td>4.000000</td>\n",
       "      <td>60.000000</td>\n",
       "      <td>2.000000</td>\n",
       "      <td>50.000000</td>\n",
       "      <td>5.000000</td>\n",
       "      <td>0.000000</td>\n",
       "      <td>0.000000</td>\n",
       "      <td>0.000000</td>\n",
       "      <td>0.000000</td>\n",
       "      <td>0.000000</td>\n",
       "      <td>0.000000</td>\n",
       "      <td>0.000000</td>\n",
       "      <td>55.000000</td>\n",
       "      <td>0.00000</td>\n",
       "      <td>1.000000</td>\n",
       "      <td>1.000000</td>\n",
       "      <td>1.000000</td>\n",
       "    </tr>\n",
       "    <tr>\n",
       "      <th>max</th>\n",
       "      <td>11.000000</td>\n",
       "      <td>31.000000</td>\n",
       "      <td>360.000000</td>\n",
       "      <td>3.000000</td>\n",
       "      <td>96.000000</td>\n",
       "      <td>5.000000</td>\n",
       "      <td>1.000000</td>\n",
       "      <td>1.000000</td>\n",
       "      <td>1.000000</td>\n",
       "      <td>1.000000</td>\n",
       "      <td>1.000000</td>\n",
       "      <td>1.000000</td>\n",
       "      <td>1.000000</td>\n",
       "      <td>91.000000</td>\n",
       "      <td>1.00000</td>\n",
       "      <td>1.000000</td>\n",
       "      <td>1.000000</td>\n",
       "      <td>1.000000</td>\n",
       "    </tr>\n",
       "  </tbody>\n",
       "</table>\n",
       "</div>"
      ],
      "text/plain": [
       "       usual_sleep_per_night  naps_per_month  length_of_average_nap  \\\n",
       "count            1000.000000     1000.000000            1000.000000   \n",
       "mean                6.655158        3.494000              31.717000   \n",
       "std                 1.149458        6.384099              42.802371   \n",
       "min                 1.000000        0.000000               0.000000   \n",
       "25%                 6.000000        0.000000               0.000000   \n",
       "50%                 7.000000        1.000000              15.000000   \n",
       "75%                 7.500000        4.000000              60.000000   \n",
       "max                11.000000       31.000000             360.000000   \n",
       "\n",
       "       employment_status  avg_weekly_hours_worked       snores  \\\n",
       "count        1000.000000              1000.000000  1000.000000   \n",
       "mean            2.006000                44.918000     2.144000   \n",
       "std             0.368917                10.351446     2.027159   \n",
       "min             1.000000                30.000000     0.000000   \n",
       "25%             2.000000                40.000000     0.000000   \n",
       "50%             2.000000                40.000000     1.000000   \n",
       "75%             2.000000                50.000000     5.000000   \n",
       "max             3.000000                96.000000     5.000000   \n",
       "\n",
       "       treated_for_heart_disease  treated_for_high_blood_pressure  \\\n",
       "count                1000.000000                      1000.000000   \n",
       "mean                    0.053000                         0.218000   \n",
       "std                     0.224146                         0.413094   \n",
       "min                     0.000000                         0.000000   \n",
       "25%                     0.000000                         0.000000   \n",
       "50%                     0.000000                         0.000000   \n",
       "75%                     0.000000                         0.000000   \n",
       "max                     1.000000                         1.000000   \n",
       "\n",
       "       treated_for_diabetes  treated_for_heartburn_GERD  \\\n",
       "count           1000.000000                 1000.000000   \n",
       "mean               0.067000                    0.085000   \n",
       "std                0.250147                    0.279021   \n",
       "min                0.000000                    0.000000   \n",
       "25%                0.000000                    0.000000   \n",
       "50%                0.000000                    0.000000   \n",
       "75%                0.000000                    0.000000   \n",
       "max                1.000000                    1.000000   \n",
       "\n",
       "       treated_for_arthritis  treated_for_depression  treated_for_anxiety  \\\n",
       "count            1000.000000             1000.000000          1000.000000   \n",
       "mean                0.078000                0.068000             0.045000   \n",
       "std                 0.268306                0.251872             0.207408   \n",
       "min                 0.000000                0.000000             0.000000   \n",
       "25%                 0.000000                0.000000             0.000000   \n",
       "50%                 0.000000                0.000000             0.000000   \n",
       "75%                 0.000000                0.000000             0.000000   \n",
       "max                 1.000000                1.000000             1.000000   \n",
       "\n",
       "               age  unconvential_awake_time   poor_sleep  has_condition  \\\n",
       "count  1000.000000               1000.00000  1000.000000    1000.000000   \n",
       "mean     47.232416                  0.13900     0.476000       0.370000   \n",
       "std      11.773514                  0.34612     0.499674       0.483046   \n",
       "min      18.000000                  0.00000     0.000000       0.000000   \n",
       "25%      39.000000                  0.00000     0.000000       0.000000   \n",
       "50%      48.000000                  0.00000     0.000000       0.000000   \n",
       "75%      55.000000                  0.00000     1.000000       1.000000   \n",
       "max      91.000000                  1.00000     1.000000       1.000000   \n",
       "\n",
       "        overworked  \n",
       "count  1000.000000  \n",
       "mean      0.443000  \n",
       "std       0.496989  \n",
       "min       0.000000  \n",
       "25%       0.000000  \n",
       "50%       0.000000  \n",
       "75%       1.000000  \n",
       "max       1.000000  "
      ]
     },
     "execution_count": 4,
     "metadata": {},
     "output_type": "execute_result"
    }
   ],
   "source": [
    "df.describe()"
   ]
  },
  {
   "cell_type": "markdown",
   "metadata": {},
   "source": [
    "**Percentage of observations treated for specific health conditions:**\n",
    "- Heart Disease: 5.3%\n",
    "- High Blood Pressure: 2.1%\n",
    "- Diabetes: 6.7%\n",
    "- Heartburn/GERD: 8.5%\n",
    "- Arthritis: 7.8%\n",
    "- Depression: 6.8%\n",
    "- Anxiety: 4.5%"
   ]
  },
  {
   "cell_type": "markdown",
   "metadata": {},
   "source": [
    "**Ages**\n",
    "\n",
    "- Ages range from 18 to 91 with the majority being 40+"
   ]
  },
  {
   "cell_type": "markdown",
   "metadata": {},
   "source": [
    "**Amount of Sleep**\n",
    "\n",
    "- Participants average 6.7 hours of sleep per night (.3 below the recommended value)."
   ]
  },
  {
   "cell_type": "markdown",
   "metadata": {},
   "source": [
    "**Work**\n",
    "\n",
    "- Participants are averaging more hours than what is considered a normal work week (45 vs 40)."
   ]
  },
  {
   "cell_type": "markdown",
   "metadata": {},
   "source": [
    "## Sleep"
   ]
  },
  {
   "cell_type": "code",
   "execution_count": 33,
   "metadata": {},
   "outputs": [
    {
     "data": {
      "image/png": "[encoded data removed]",
      "text/plain": [
       "<Figure size 864x360 with 1 Axes>"
      ]
     },
     "metadata": {
      "needs_background": "light"
     },
     "output_type": "display_data"
    }
   ],
   "source": [
    "# Distribution of average hours of sleep in the dataset. \n",
    "plt.figure(figsize = (12, 5))\n",
    "sns.histplot(df.usual_sleep_per_night)\n",
    "\n",
    "plt.ylabel('Amount of Participants')\n",
    "plt.xlabel('Hours of sleep')\n",
    "plt.legend(labels = ['Particpant Average Hours of Sleep']);"
   ]
  },
  {
   "cell_type": "markdown",
   "metadata": {},
   "source": [
    "Average sleep hours among participants follows a normal distribution with most averaging between the 6- and 8-hour range."
   ]
  },
  {
   "cell_type": "markdown",
   "metadata": {},
   "source": [
    "**Outliers**"
   ]
  },
  {
   "cell_type": "code",
   "execution_count": 6,
   "metadata": {},
   "outputs": [
    {
     "data": {
      "text/html": [
       "<div>\n",
       "<style scoped>\n",
       "    .dataframe tbody tr th:only-of-type {\n",
       "        vertical-align: middle;\n",
       "    }\n",
       "\n",
       "    .dataframe tbody tr th {\n",
       "        vertical-align: top;\n",
       "    }\n",
       "\n",
       "    .dataframe thead th {\n",
       "        text-align: right;\n",
       "    }\n",
       "</style>\n",
       "<table border=\"1\" class=\"dataframe\">\n",
       "  <thead>\n",
       "    <tr style=\"text-align: right;\">\n",
       "      <th></th>\n",
       "      <th>awake_time</th>\n",
       "      <th>start_work</th>\n",
       "      <th>end_work</th>\n",
       "      <th>bed_time_work_tomorrow</th>\n",
       "      <th>no_work_awake_time</th>\n",
       "      <th>bed_time_no_work_tomorrow</th>\n",
       "      <th>usual_sleep_per_night</th>\n",
       "      <th>naps_per_month</th>\n",
       "      <th>length_of_average_nap</th>\n",
       "      <th>employment_status</th>\n",
       "      <th>...</th>\n",
       "      <th>treated_for_anxiety</th>\n",
       "      <th>age</th>\n",
       "      <th>marital_status</th>\n",
       "      <th>highest_edu</th>\n",
       "      <th>single_dual_household</th>\n",
       "      <th>house_hold_income_bracket</th>\n",
       "      <th>unconvential_awake_time</th>\n",
       "      <th>poor_sleep</th>\n",
       "      <th>has_condition</th>\n",
       "      <th>overworked</th>\n",
       "    </tr>\n",
       "  </thead>\n",
       "  <tbody>\n",
       "    <tr>\n",
       "      <th>143</th>\n",
       "      <td>12:00 AM</td>\n",
       "      <td>12:00 AM</td>\n",
       "      <td>7:15 AM – 7:29 AM</td>\n",
       "      <td>6:45 AM – 6:59 AM</td>\n",
       "      <td>7:00 AM – 7:14 AM</td>\n",
       "      <td>5:15 AM – 5:29 AM</td>\n",
       "      <td>3.333</td>\n",
       "      <td>0</td>\n",
       "      <td>0.0</td>\n",
       "      <td>2</td>\n",
       "      <td>...</td>\n",
       "      <td>0</td>\n",
       "      <td>55.0</td>\n",
       "      <td>Married_partnered</td>\n",
       "      <td>Graduated high school</td>\n",
       "      <td>Dual income</td>\n",
       "      <td>NaN</td>\n",
       "      <td>1</td>\n",
       "      <td>1</td>\n",
       "      <td>1</td>\n",
       "      <td>1</td>\n",
       "    </tr>\n",
       "    <tr>\n",
       "      <th>288</th>\n",
       "      <td>6:00 AM – 6:14 AM</td>\n",
       "      <td>10:00 AM – 10:59 AM</td>\n",
       "      <td>6:00 AM – 6:14 AM</td>\n",
       "      <td>6:45 AM – 6:59 AM</td>\n",
       "      <td>10:00 AM – 10:59 AM</td>\n",
       "      <td>8:45 AM – 8:59 AM</td>\n",
       "      <td>2.500</td>\n",
       "      <td>0</td>\n",
       "      <td>0.0</td>\n",
       "      <td>3</td>\n",
       "      <td>...</td>\n",
       "      <td>0</td>\n",
       "      <td>66.0</td>\n",
       "      <td>Separated</td>\n",
       "      <td>Some high school</td>\n",
       "      <td>Single income</td>\n",
       "      <td>Under $15,000</td>\n",
       "      <td>0</td>\n",
       "      <td>1</td>\n",
       "      <td>1</td>\n",
       "      <td>0</td>\n",
       "    </tr>\n",
       "    <tr>\n",
       "      <th>305</th>\n",
       "      <td>7:00 AM – 7:14 AM</td>\n",
       "      <td>8:00 AM – 8:14 AM</td>\n",
       "      <td>6:30 AM – 6:44 AM</td>\n",
       "      <td>8:30 AM – 8:44 AM</td>\n",
       "      <td>8:00 AM – 8:14 AM</td>\n",
       "      <td>8:45 AM – 8:59 AM</td>\n",
       "      <td>2.000</td>\n",
       "      <td>0</td>\n",
       "      <td>0.0</td>\n",
       "      <td>1</td>\n",
       "      <td>...</td>\n",
       "      <td>0</td>\n",
       "      <td>54.0</td>\n",
       "      <td>Married_partnered</td>\n",
       "      <td>Some college</td>\n",
       "      <td>Single income</td>\n",
       "      <td>NaN</td>\n",
       "      <td>0</td>\n",
       "      <td>1</td>\n",
       "      <td>0</td>\n",
       "      <td>0</td>\n",
       "    </tr>\n",
       "    <tr>\n",
       "      <th>444</th>\n",
       "      <td>5:00 AM – 5:14 AM</td>\n",
       "      <td>7:00 AM – 7:14 AM</td>\n",
       "      <td>6:15 AM – 6:29 AM</td>\n",
       "      <td>9:15 AM – 9:29 AM</td>\n",
       "      <td>6:00 AM – 6:14 AM</td>\n",
       "      <td>5:15 AM – 5:29 AM</td>\n",
       "      <td>3.000</td>\n",
       "      <td>10</td>\n",
       "      <td>30.0</td>\n",
       "      <td>2</td>\n",
       "      <td>...</td>\n",
       "      <td>0</td>\n",
       "      <td>46.0</td>\n",
       "      <td>Married_partnered</td>\n",
       "      <td>Vocational/Tech school</td>\n",
       "      <td>Dual income</td>\n",
       "      <td>$50,001 - $75,000</td>\n",
       "      <td>0</td>\n",
       "      <td>1</td>\n",
       "      <td>0</td>\n",
       "      <td>0</td>\n",
       "    </tr>\n",
       "    <tr>\n",
       "      <th>650</th>\n",
       "      <td>12:01 AM – 4:59 AM</td>\n",
       "      <td>5:30 AM – 5:44 AM</td>\n",
       "      <td>6:00 AM – 6:14 AM</td>\n",
       "      <td>8:45 AM – 8:59 AM</td>\n",
       "      <td>12:01 AM – 4:59 AM</td>\n",
       "      <td>8:45 AM – 8:59 AM</td>\n",
       "      <td>1.000</td>\n",
       "      <td>6</td>\n",
       "      <td>60.0</td>\n",
       "      <td>2</td>\n",
       "      <td>...</td>\n",
       "      <td>0</td>\n",
       "      <td>49.0</td>\n",
       "      <td>Married_partnered</td>\n",
       "      <td>Vocational/Tech school</td>\n",
       "      <td>Single income</td>\n",
       "      <td>$50,001 - $75,000</td>\n",
       "      <td>1</td>\n",
       "      <td>1</td>\n",
       "      <td>0</td>\n",
       "      <td>0</td>\n",
       "    </tr>\n",
       "    <tr>\n",
       "      <th>651</th>\n",
       "      <td>5:30 AM – 5:44 AM</td>\n",
       "      <td>7:00 AM – 7:14 AM</td>\n",
       "      <td>6:45 AM – 6:59 AM</td>\n",
       "      <td>7:45 AM – 7:59 AM</td>\n",
       "      <td>5:30 AM – 5:44 AM</td>\n",
       "      <td>5:15 AM – 5:29 AM</td>\n",
       "      <td>2.000</td>\n",
       "      <td>0</td>\n",
       "      <td>0.0</td>\n",
       "      <td>2</td>\n",
       "      <td>...</td>\n",
       "      <td>0</td>\n",
       "      <td>37.0</td>\n",
       "      <td>Single</td>\n",
       "      <td>Graduated high school</td>\n",
       "      <td>Single income</td>\n",
       "      <td>$35,001 - $50,000</td>\n",
       "      <td>0</td>\n",
       "      <td>1</td>\n",
       "      <td>0</td>\n",
       "      <td>1</td>\n",
       "    </tr>\n",
       "    <tr>\n",
       "      <th>744</th>\n",
       "      <td>5:30 AM – 5:44 AM</td>\n",
       "      <td>6:30 AM – 6:44 AM</td>\n",
       "      <td>8:00 AM – 8:14 AM</td>\n",
       "      <td>7:45 AM – 7:59 AM</td>\n",
       "      <td>5:30 AM – 5:44 AM</td>\n",
       "      <td>7:45 AM – 7:59 AM</td>\n",
       "      <td>3.000</td>\n",
       "      <td>0</td>\n",
       "      <td>0.0</td>\n",
       "      <td>2</td>\n",
       "      <td>...</td>\n",
       "      <td>0</td>\n",
       "      <td>55.0</td>\n",
       "      <td>Married_partnered</td>\n",
       "      <td>Graduated high school</td>\n",
       "      <td>Dual income</td>\n",
       "      <td>$50,001 - $75,000</td>\n",
       "      <td>0</td>\n",
       "      <td>1</td>\n",
       "      <td>0</td>\n",
       "      <td>1</td>\n",
       "    </tr>\n",
       "    <tr>\n",
       "      <th>898</th>\n",
       "      <td>6:00 AM – 6:14 AM</td>\n",
       "      <td>12:01 AM – 4:59 AM</td>\n",
       "      <td>6:00 AM – 6:14 AM</td>\n",
       "      <td>7:45 AM – 7:59 AM</td>\n",
       "      <td>12:01 AM – 4:59 AM</td>\n",
       "      <td>8:45 AM – 8:59 AM</td>\n",
       "      <td>3.000</td>\n",
       "      <td>3</td>\n",
       "      <td>20.0</td>\n",
       "      <td>2</td>\n",
       "      <td>...</td>\n",
       "      <td>0</td>\n",
       "      <td>59.0</td>\n",
       "      <td>Married_partnered</td>\n",
       "      <td>Graduated high school</td>\n",
       "      <td>Single income</td>\n",
       "      <td>$15,000 - $25,000</td>\n",
       "      <td>0</td>\n",
       "      <td>1</td>\n",
       "      <td>1</td>\n",
       "      <td>1</td>\n",
       "    </tr>\n",
       "  </tbody>\n",
       "</table>\n",
       "<p>8 rows × 28 columns</p>\n",
       "</div>"
      ],
      "text/plain": [
       "             awake_time           start_work           end_work  \\\n",
       "143            12:00 AM             12:00 AM  7:15 AM – 7:29 AM   \n",
       "288   6:00 AM – 6:14 AM  10:00 AM – 10:59 AM  6:00 AM – 6:14 AM   \n",
       "305   7:00 AM – 7:14 AM    8:00 AM – 8:14 AM  6:30 AM – 6:44 AM   \n",
       "444   5:00 AM – 5:14 AM    7:00 AM – 7:14 AM  6:15 AM – 6:29 AM   \n",
       "650  12:01 AM – 4:59 AM    5:30 AM – 5:44 AM  6:00 AM – 6:14 AM   \n",
       "651   5:30 AM – 5:44 AM    7:00 AM – 7:14 AM  6:45 AM – 6:59 AM   \n",
       "744   5:30 AM – 5:44 AM    6:30 AM – 6:44 AM  8:00 AM – 8:14 AM   \n",
       "898   6:00 AM – 6:14 AM   12:01 AM – 4:59 AM  6:00 AM – 6:14 AM   \n",
       "\n",
       "    bed_time_work_tomorrow   no_work_awake_time bed_time_no_work_tomorrow  \\\n",
       "143      6:45 AM – 6:59 AM    7:00 AM – 7:14 AM         5:15 AM – 5:29 AM   \n",
       "288      6:45 AM – 6:59 AM  10:00 AM – 10:59 AM         8:45 AM – 8:59 AM   \n",
       "305      8:30 AM – 8:44 AM    8:00 AM – 8:14 AM         8:45 AM – 8:59 AM   \n",
       "444      9:15 AM – 9:29 AM    6:00 AM – 6:14 AM         5:15 AM – 5:29 AM   \n",
       "650      8:45 AM – 8:59 AM   12:01 AM – 4:59 AM         8:45 AM – 8:59 AM   \n",
       "651      7:45 AM – 7:59 AM    5:30 AM – 5:44 AM         5:15 AM – 5:29 AM   \n",
       "744      7:45 AM – 7:59 AM    5:30 AM – 5:44 AM         7:45 AM – 7:59 AM   \n",
       "898      7:45 AM – 7:59 AM   12:01 AM – 4:59 AM         8:45 AM – 8:59 AM   \n",
       "\n",
       "     usual_sleep_per_night  naps_per_month  length_of_average_nap  \\\n",
       "143                  3.333               0                    0.0   \n",
       "288                  2.500               0                    0.0   \n",
       "305                  2.000               0                    0.0   \n",
       "444                  3.000              10                   30.0   \n",
       "650                  1.000               6                   60.0   \n",
       "651                  2.000               0                    0.0   \n",
       "744                  3.000               0                    0.0   \n",
       "898                  3.000               3                   20.0   \n",
       "\n",
       "     employment_status  ...  treated_for_anxiety   age     marital_status  \\\n",
       "143                  2  ...                    0  55.0  Married_partnered   \n",
       "288                  3  ...                    0  66.0          Separated   \n",
       "305                  1  ...                    0  54.0  Married_partnered   \n",
       "444                  2  ...                    0  46.0  Married_partnered   \n",
       "650                  2  ...                    0  49.0  Married_partnered   \n",
       "651                  2  ...                    0  37.0             Single   \n",
       "744                  2  ...                    0  55.0  Married_partnered   \n",
       "898                  2  ...                    0  59.0  Married_partnered   \n",
       "\n",
       "                highest_edu  single_dual_household  house_hold_income_bracket  \\\n",
       "143   Graduated high school           Dual income                         NaN   \n",
       "288        Some high school          Single income              Under $15,000   \n",
       "305            Some college          Single income                        NaN   \n",
       "444  Vocational/Tech school           Dual income           $50,001 - $75,000   \n",
       "650  Vocational/Tech school          Single income          $50,001 - $75,000   \n",
       "651   Graduated high school          Single income          $35,001 - $50,000   \n",
       "744   Graduated high school           Dual income           $50,001 - $75,000   \n",
       "898   Graduated high school          Single income          $15,000 - $25,000   \n",
       "\n",
       "     unconvential_awake_time  poor_sleep  has_condition  overworked  \n",
       "143                        1           1              1           1  \n",
       "288                        0           1              1           0  \n",
       "305                        0           1              0           0  \n",
       "444                        0           1              0           0  \n",
       "650                        1           1              0           0  \n",
       "651                        0           1              0           1  \n",
       "744                        0           1              0           1  \n",
       "898                        0           1              1           1  \n",
       "\n",
       "[8 rows x 28 columns]"
      ]
     },
     "execution_count": 6,
     "metadata": {},
     "output_type": "execute_result"
    }
   ],
   "source": [
    "df[df['usual_sleep_per_night'] < 4]"
   ]
  },
  {
   "cell_type": "markdown",
   "metadata": {},
   "source": [
    "Participants averaging under 4 hours of sleep per night"
   ]
  },
  {
   "cell_type": "markdown",
   "metadata": {},
   "source": [
    "**Awake Times**"
   ]
  },
  {
   "cell_type": "code",
   "execution_count": 7,
   "metadata": {},
   "outputs": [
    {
     "data": {
      "image/png": "[encoded data removed]",
      "text/plain": [
       "<Figure size 864x432 with 1 Axes>"
      ]
     },
     "metadata": {
      "needs_background": "light"
     },
     "output_type": "display_data"
    }
   ],
   "source": [
    "# Most common awake times for those with each health condition\n",
    "plt.figure(figsize = (12, 6))\n",
    "df['awake_time'].value_counts().plot(kind = 'barh')\n",
    "plt.tight_layout()\n",
    "plt.title('Most Common Awake Time')\n",
    "plt.xlabel('Amount of')\n",
    "plt.legend();"
   ]
  },
  {
   "cell_type": "markdown",
   "metadata": {},
   "source": [
    "- The most common awake times are between 6:00am and 6:15am. This is as expected."
   ]
  },
  {
   "cell_type": "markdown",
   "metadata": {},
   "source": [
    "**Correlations between numerical features and having poor sleep**"
   ]
  },
  {
   "cell_type": "code",
   "execution_count": 8,
   "metadata": {
    "scrolled": true
   },
   "outputs": [
    {
     "data": {
      "image/png": "[encoded data removed]",
      "text/plain": [
       "<Figure size 432x288 with 2 Axes>"
      ]
     },
     "metadata": {
      "needs_background": "light"
     },
     "output_type": "display_data"
    }
   ],
   "source": [
    "sns.heatmap(df.drop(columns = 'poor_sleep').corr()[['usual_sleep_per_night']][1:-1].sort_values('usual_sleep_per_night', ascending = True),\n",
    "                                                  vmin = -1, \n",
    "                                                  vmax = 1, \n",
    "                                                  annot = True,\n",
    "                                                  cmap = 'viridis')\n",
    "plt.title('Poor Sleep Correlations');"
   ]
  },
  {
   "cell_type": "markdown",
   "metadata": {},
   "source": [
    "- Heartburn and work hours per week have the strongest postive correalation with poor sleep. "
   ]
  },
  {
   "cell_type": "markdown",
   "metadata": {},
   "source": [
    "**Naps**"
   ]
  },
  {
   "cell_type": "code",
   "execution_count": 9,
   "metadata": {},
   "outputs": [
    {
     "data": {
      "text/plain": [
       "538"
      ]
     },
     "execution_count": 9,
     "metadata": {},
     "output_type": "execute_result"
    }
   ],
   "source": [
    "df[df['naps_per_month'] != 0].shape[0] "
   ]
  },
  {
   "cell_type": "code",
   "execution_count": 10,
   "metadata": {},
   "outputs": [
    {
     "data": {
      "text/plain": [
       "1000"
      ]
     },
     "execution_count": 10,
     "metadata": {},
     "output_type": "execute_result"
    }
   ],
   "source": [
    "df.shape[0]"
   ]
  },
  {
   "cell_type": "markdown",
   "metadata": {},
   "source": [
    "53% percent of participants take more than one nap per month."
   ]
  },
  {
   "cell_type": "code",
   "execution_count": 40,
   "metadata": {},
   "outputs": [
    {
     "data": {
      "text/plain": [
       "<Figure size 864x432 with 0 Axes>"
      ]
     },
     "metadata": {},
     "output_type": "display_data"
    },
    {
     "data": {
      "image/png": "[encoded data removed]",
      "text/plain": [
       "<Figure size 360x360 with 1 Axes>"
      ]
     },
     "metadata": {
      "needs_background": "light"
     },
     "output_type": "display_data"
    }
   ],
   "source": [
    "plt.figure(figsize = (12,6))\n",
    "sns.displot(df[df['naps_per_month'] != 0]['naps_per_month'])\n",
    "plt.title('Naps Per Month');"
   ]
  },
  {
   "cell_type": "code",
   "execution_count": 12,
   "metadata": {},
   "outputs": [
    {
     "data": {
      "text/plain": [
       "('Average nap duration:', 0.52)"
      ]
     },
     "execution_count": 12,
     "metadata": {},
     "output_type": "execute_result"
    }
   ],
   "source": [
    "'Average nap duration:',  round(df[df['naps_per_month'] < 1]['length_of_average_nap'].mean(),2)"
   ]
  },
  {
   "cell_type": "markdown",
   "metadata": {},
   "source": [
    "Participants that nap do so for about an hour. Napping distributions are positivly skewed with the execption of the number of participants who nap 30+ times a month. Excessive napping can be linked to underlying conditions. We will explore these entries further."
   ]
  },
  {
   "cell_type": "code",
   "execution_count": 13,
   "metadata": {},
   "outputs": [
    {
     "name": "stdout",
     "output_type": "stream",
     "text": [
      "Overall Percentage - Heart_Disease: 0.053\n",
      "Percentage in those who nap daily - Heart_Disease: 0.26 \n",
      "\n",
      "Overall Percentage - High_Blood_Pressure: 0.218\n",
      "Percentage in those who nap daily - High_Blood_Pressure: 0.44 \n",
      "\n",
      "Overall Percentage - Diabetes: 0.067\n",
      "Percentage in those who nap daily - Diabetes: 0.22 \n",
      "\n",
      "Overall Percentage - Heartburn_Gerd: 0.085\n",
      "Percentage in those who nap daily - Heartburn_Gerd: 0.11 \n",
      "\n",
      "Overall Percentage - Arthritis: 0.078\n",
      "Percentage in those who nap daily - Arthritis: 0.15 \n",
      "\n",
      "Overall Percentage - Depression: 0.068\n",
      "Percentage in those who nap daily - Depression: 0.22 \n",
      "\n",
      "Overall Percentage - Anxiety: 0.045\n",
      "Anxiety: no cases\n"
     ]
    }
   ],
   "source": [
    "for i in [x for x in df.columns if x[:len('treated_for_')] in 'treated_for_']:\n",
    "    try:\n",
    "        print(f'Overall Percentage - {i[12:].title()}: {df[i].value_counts(normalize = True)[1]}')\n",
    "        print(f'Percentage in those who nap daily - {i[12:].title()}: {round(df[df[\"naps_per_month\"] > 29][i].value_counts(normalize = True)[1],2)} \\n')\n",
    "    except:\n",
    "        print(f'{i[12:].title()}: no cases')"
   ]
  },
  {
   "cell_type": "code",
   "execution_count": 14,
   "metadata": {},
   "outputs": [
    {
     "data": {
      "text/plain": [
       "0.6296296296296297"
      ]
     },
     "execution_count": 14,
     "metadata": {},
     "output_type": "execute_result"
    }
   ],
   "source": [
    "df[df['naps_per_month'] > 29]['has_condition'].mean()"
   ]
  },
  {
   "cell_type": "code",
   "execution_count": 15,
   "metadata": {},
   "outputs": [
    {
     "data": {
      "text/plain": [
       "0.37"
      ]
     },
     "execution_count": 15,
     "metadata": {},
     "output_type": "execute_result"
    }
   ],
   "source": [
    "df['has_condition'].mean()"
   ]
  },
  {
   "cell_type": "markdown",
   "metadata": {},
   "source": [
    "Aside from anxiety all, those nap 30+ times a month have substantially higher rates of health conditons. The true percentages are most likely lower. Those who nap daily make up a small percetange of the data set and ever occurence of a condition would be a overvalued. "
   ]
  },
  {
   "cell_type": "markdown",
   "metadata": {},
   "source": [
    "## Health Conditions"
   ]
  },
  {
   "cell_type": "markdown",
   "metadata": {},
   "source": [
    "**Health Conditions of participants**"
   ]
  },
  {
   "cell_type": "code",
   "execution_count": 16,
   "metadata": {},
   "outputs": [
    {
     "data": {
      "image/png": "[encoded data removed]",
      "text/plain": [
       "<Figure size 432x288 with 1 Axes>"
      ]
     },
     "metadata": {
      "needs_background": "light"
     },
     "output_type": "display_data"
    }
   ],
   "source": [
    "# Average amount of sleep for those with each health condition.\n",
    "treated = [x for x in df.columns if x[:7] == 'treated']\n",
    "treated_sums = [df[x].sum() for x in df[treated].columns]\n",
    "hc_counts = pd.DataFrame(treated_sums, index = [x[12:].title().replace('_', ' ') for x in treated]);\n",
    "hc_counts.plot(kind = 'barh', title = 'Distribution of Participant Health Conditions', color = ['blue',\n",
    "                                                                                              'green',\n",
    "                                                                                              'yellow',\n",
    "                                                                                              'red',\n",
    "                                                                                              'pink',\n",
    "                                                                                              'orange']);"
   ]
  },
  {
   "cell_type": "markdown",
   "metadata": {},
   "source": [
    "Our participants suffered the most from High Blood Pressure. "
   ]
  },
  {
   "cell_type": "markdown",
   "metadata": {},
   "source": [
    "**Percentages of health conditions by whether or not the participant is getting adequate sleep**"
   ]
  },
  {
   "cell_type": "code",
   "execution_count": 17,
   "metadata": {
    "scrolled": true
   },
   "outputs": [
    {
     "data": {
      "text/html": [
       "<div>\n",
       "<style scoped>\n",
       "    .dataframe tbody tr th:only-of-type {\n",
       "        vertical-align: middle;\n",
       "    }\n",
       "\n",
       "    .dataframe tbody tr th {\n",
       "        vertical-align: top;\n",
       "    }\n",
       "\n",
       "    .dataframe thead th {\n",
       "        text-align: right;\n",
       "    }\n",
       "</style>\n",
       "<table border=\"1\" class=\"dataframe\">\n",
       "  <thead>\n",
       "    <tr style=\"text-align: right;\">\n",
       "      <th>poor_sleep</th>\n",
       "      <th>0</th>\n",
       "      <th>1</th>\n",
       "    </tr>\n",
       "  </thead>\n",
       "  <tbody>\n",
       "    <tr>\n",
       "      <th>treated_for_heart_disease</th>\n",
       "      <td>0.049618</td>\n",
       "      <td>0.056723</td>\n",
       "    </tr>\n",
       "    <tr>\n",
       "      <th>treated_for_high_blood_pressure</th>\n",
       "      <td>0.221374</td>\n",
       "      <td>0.214286</td>\n",
       "    </tr>\n",
       "    <tr>\n",
       "      <th>treated_for_diabetes</th>\n",
       "      <td>0.059160</td>\n",
       "      <td>0.075630</td>\n",
       "    </tr>\n",
       "    <tr>\n",
       "      <th>treated_for_heartburn_GERD</th>\n",
       "      <td>0.059160</td>\n",
       "      <td>0.113445</td>\n",
       "    </tr>\n",
       "    <tr>\n",
       "      <th>treated_for_arthritis</th>\n",
       "      <td>0.061069</td>\n",
       "      <td>0.096639</td>\n",
       "    </tr>\n",
       "    <tr>\n",
       "      <th>treated_for_depression</th>\n",
       "      <td>0.062977</td>\n",
       "      <td>0.073529</td>\n",
       "    </tr>\n",
       "    <tr>\n",
       "      <th>treated_for_anxiety</th>\n",
       "      <td>0.032443</td>\n",
       "      <td>0.058824</td>\n",
       "    </tr>\n",
       "    <tr>\n",
       "      <th>overworked</th>\n",
       "      <td>0.423664</td>\n",
       "      <td>0.464286</td>\n",
       "    </tr>\n",
       "  </tbody>\n",
       "</table>\n",
       "</div>"
      ],
      "text/plain": [
       "poor_sleep                              0         1\n",
       "treated_for_heart_disease        0.049618  0.056723\n",
       "treated_for_high_blood_pressure  0.221374  0.214286\n",
       "treated_for_diabetes             0.059160  0.075630\n",
       "treated_for_heartburn_GERD       0.059160  0.113445\n",
       "treated_for_arthritis            0.061069  0.096639\n",
       "treated_for_depression           0.062977  0.073529\n",
       "treated_for_anxiety              0.032443  0.058824\n",
       "overworked                       0.423664  0.464286"
      ]
     },
     "execution_count": 17,
     "metadata": {},
     "output_type": "execute_result"
    }
   ],
   "source": [
    "df.drop(columns = ['age', \n",
    "                   'usual_sleep_per_night',\n",
    "                   'employment_status',\n",
    "                   'avg_weekly_hours_worked',\n",
    "                   'naps_per_month',\n",
    "                   'has_condition',\n",
    "                   'length_of_average_nap',\n",
    "                   'snores',\n",
    "                   'unconvential_awake_time']).groupby('poor_sleep').mean().T"
   ]
  },
  {
   "cell_type": "code",
   "execution_count": 18,
   "metadata": {},
   "outputs": [
    {
     "data": {
      "image/png": "[encoded data removed]",
      "text/plain": [
       "<Figure size 432x288 with 1 Axes>"
      ]
     },
     "metadata": {
      "needs_background": "light"
     },
     "output_type": "display_data"
    }
   ],
   "source": [
    "df.drop(columns = ['age',\n",
    "                   'naps_per_month',\n",
    "                   'length_of_average_nap',\n",
    "                   'usual_sleep_per_night',\n",
    "                   'employment_status',\n",
    "                   'avg_weekly_hours_worked',\n",
    "                   'snores',\n",
    "                   'unconvential_awake_time',\n",
    "                   'overworked']).groupby('poor_sleep').mean().T.plot(kind='bar');"
   ]
  },
  {
   "cell_type": "markdown",
   "metadata": {},
   "source": [
    "- Aside from high blood pressure, all percentages observed that health conditions are higher in those who are not getting adequate sleep. The recurring trend is that heartburn is the worst offender, with an increase from 6% (for those getting < 7 hours of sleep) to 11% (for those getting > 7 hours of sleep)."
   ]
  },
  {
   "cell_type": "markdown",
   "metadata": {},
   "source": [
    "## Late Workers"
   ]
  },
  {
   "cell_type": "code",
   "execution_count": 19,
   "metadata": {},
   "outputs": [
    {
     "data": {
      "text/plain": [
       "8:00 AM – 8:14 AM      216\n",
       "7:00 AM – 7:14 AM      158\n",
       "7:30 AM – 7:44 AM      132\n",
       "8:30 AM – 8:44 AM       79\n",
       "9:00 AM – 9:14 AM       73\n",
       "6:00 AM – 6:14 AM       70\n",
       "6:30 AM – 6:44 AM       59\n",
       "12:00 PM – 5:59 PM      31\n",
       "7:45 AM – 7:59 AM       23\n",
       "10:00 AM – 10:59 AM     22\n",
       "12:01 AM – 4:59 AM      19\n",
       "6:00 PM – 11:59 PM      17\n",
       "9:30 AM – 9:44 AM       16\n",
       "5:30 AM – 5:44 AM       13\n",
       "7:15 AM – 7:29 AM       12\n",
       "8:15 AM – 8:29 AM       11\n",
       "5:00 AM – 5:14 AM       10\n",
       "8:45 AM – 8:59 AM        8\n",
       "6:45 AM – 6:59 AM        6\n",
       "11:00 AM – 11:59 AM      6\n",
       "6:15 AM – 6:29 AM        5\n",
       "9:15 AM – 9:29 AM        5\n",
       "5:45 AM – 5:59 AM        3\n",
       "12:00 AM                 3\n",
       "5:15 AM – 5:29 AM        2\n",
       "9:45 AM – 9:59 AM        1\n",
       "Name: start_work, dtype: int64"
      ]
     },
     "execution_count": 19,
     "metadata": {},
     "output_type": "execute_result"
    }
   ],
   "source": [
    "df['start_work'].value_counts()"
   ]
  },
  {
   "cell_type": "code",
   "execution_count": 20,
   "metadata": {},
   "outputs": [],
   "source": [
    "late_work = df[df['start_work'].str.contains('PM')] + df[df['start_work'].str.contains('12:00 AM')]"
   ]
  },
  {
   "cell_type": "code",
   "execution_count": 21,
   "metadata": {},
   "outputs": [],
   "source": [
    "early_work = df[df['start_work'].str.contains('AM')]"
   ]
  },
  {
   "cell_type": "code",
   "execution_count": 22,
   "metadata": {},
   "outputs": [
    {
     "data": {
      "text/html": [
       "<div>\n",
       "<style scoped>\n",
       "    .dataframe tbody tr th:only-of-type {\n",
       "        vertical-align: middle;\n",
       "    }\n",
       "\n",
       "    .dataframe tbody tr th {\n",
       "        vertical-align: top;\n",
       "    }\n",
       "\n",
       "    .dataframe thead th {\n",
       "        text-align: right;\n",
       "    }\n",
       "</style>\n",
       "<table border=\"1\" class=\"dataframe\">\n",
       "  <thead>\n",
       "    <tr style=\"text-align: right;\">\n",
       "      <th></th>\n",
       "      <th>usual_sleep_per_night</th>\n",
       "      <th>naps_per_month</th>\n",
       "      <th>length_of_average_nap</th>\n",
       "      <th>employment_status</th>\n",
       "      <th>avg_weekly_hours_worked</th>\n",
       "      <th>snores</th>\n",
       "      <th>treated_for_heart_disease</th>\n",
       "      <th>treated_for_high_blood_pressure</th>\n",
       "      <th>treated_for_diabetes</th>\n",
       "      <th>treated_for_heartburn_GERD</th>\n",
       "      <th>treated_for_arthritis</th>\n",
       "      <th>treated_for_depression</th>\n",
       "      <th>treated_for_anxiety</th>\n",
       "      <th>age</th>\n",
       "      <th>unconvential_awake_time</th>\n",
       "      <th>poor_sleep</th>\n",
       "      <th>has_condition</th>\n",
       "      <th>overworked</th>\n",
       "    </tr>\n",
       "  </thead>\n",
       "  <tbody>\n",
       "    <tr>\n",
       "      <th>count</th>\n",
       "      <td>952.000000</td>\n",
       "      <td>952.000000</td>\n",
       "      <td>952.000000</td>\n",
       "      <td>952.000000</td>\n",
       "      <td>952.000000</td>\n",
       "      <td>952.000000</td>\n",
       "      <td>952.000000</td>\n",
       "      <td>952.000000</td>\n",
       "      <td>952.000000</td>\n",
       "      <td>952.000000</td>\n",
       "      <td>952.000000</td>\n",
       "      <td>952.000000</td>\n",
       "      <td>952.000000</td>\n",
       "      <td>952.000000</td>\n",
       "      <td>952.000000</td>\n",
       "      <td>952.000000</td>\n",
       "      <td>952.000000</td>\n",
       "      <td>952.000000</td>\n",
       "    </tr>\n",
       "    <tr>\n",
       "      <th>mean</th>\n",
       "      <td>6.678138</td>\n",
       "      <td>3.340336</td>\n",
       "      <td>31.005252</td>\n",
       "      <td>2.000000</td>\n",
       "      <td>45.038866</td>\n",
       "      <td>2.152311</td>\n",
       "      <td>0.051471</td>\n",
       "      <td>0.217437</td>\n",
       "      <td>0.066176</td>\n",
       "      <td>0.082983</td>\n",
       "      <td>0.073529</td>\n",
       "      <td>0.069328</td>\n",
       "      <td>0.047269</td>\n",
       "      <td>47.263042</td>\n",
       "      <td>0.127101</td>\n",
       "      <td>0.466387</td>\n",
       "      <td>0.366597</td>\n",
       "      <td>0.449580</td>\n",
       "    </tr>\n",
       "    <tr>\n",
       "      <th>std</th>\n",
       "      <td>1.136658</td>\n",
       "      <td>6.118677</td>\n",
       "      <td>42.404677</td>\n",
       "      <td>0.366872</td>\n",
       "      <td>10.321721</td>\n",
       "      <td>2.026874</td>\n",
       "      <td>0.221072</td>\n",
       "      <td>0.412719</td>\n",
       "      <td>0.248721</td>\n",
       "      <td>0.276002</td>\n",
       "      <td>0.261141</td>\n",
       "      <td>0.254144</td>\n",
       "      <td>0.212325</td>\n",
       "      <td>11.635145</td>\n",
       "      <td>0.333261</td>\n",
       "      <td>0.499131</td>\n",
       "      <td>0.482128</td>\n",
       "      <td>0.497713</td>\n",
       "    </tr>\n",
       "    <tr>\n",
       "      <th>min</th>\n",
       "      <td>1.000000</td>\n",
       "      <td>0.000000</td>\n",
       "      <td>0.000000</td>\n",
       "      <td>1.000000</td>\n",
       "      <td>30.000000</td>\n",
       "      <td>0.000000</td>\n",
       "      <td>0.000000</td>\n",
       "      <td>0.000000</td>\n",
       "      <td>0.000000</td>\n",
       "      <td>0.000000</td>\n",
       "      <td>0.000000</td>\n",
       "      <td>0.000000</td>\n",
       "      <td>0.000000</td>\n",
       "      <td>18.000000</td>\n",
       "      <td>0.000000</td>\n",
       "      <td>0.000000</td>\n",
       "      <td>0.000000</td>\n",
       "      <td>0.000000</td>\n",
       "    </tr>\n",
       "    <tr>\n",
       "      <th>25%</th>\n",
       "      <td>6.000000</td>\n",
       "      <td>0.000000</td>\n",
       "      <td>0.000000</td>\n",
       "      <td>2.000000</td>\n",
       "      <td>40.000000</td>\n",
       "      <td>0.000000</td>\n",
       "      <td>0.000000</td>\n",
       "      <td>0.000000</td>\n",
       "      <td>0.000000</td>\n",
       "      <td>0.000000</td>\n",
       "      <td>0.000000</td>\n",
       "      <td>0.000000</td>\n",
       "      <td>0.000000</td>\n",
       "      <td>39.000000</td>\n",
       "      <td>0.000000</td>\n",
       "      <td>0.000000</td>\n",
       "      <td>0.000000</td>\n",
       "      <td>0.000000</td>\n",
       "    </tr>\n",
       "    <tr>\n",
       "      <th>50%</th>\n",
       "      <td>7.000000</td>\n",
       "      <td>1.000000</td>\n",
       "      <td>15.000000</td>\n",
       "      <td>2.000000</td>\n",
       "      <td>40.000000</td>\n",
       "      <td>1.000000</td>\n",
       "      <td>0.000000</td>\n",
       "      <td>0.000000</td>\n",
       "      <td>0.000000</td>\n",
       "      <td>0.000000</td>\n",
       "      <td>0.000000</td>\n",
       "      <td>0.000000</td>\n",
       "      <td>0.000000</td>\n",
       "      <td>48.000000</td>\n",
       "      <td>0.000000</td>\n",
       "      <td>0.000000</td>\n",
       "      <td>0.000000</td>\n",
       "      <td>0.000000</td>\n",
       "    </tr>\n",
       "    <tr>\n",
       "      <th>75%</th>\n",
       "      <td>7.500000</td>\n",
       "      <td>4.000000</td>\n",
       "      <td>60.000000</td>\n",
       "      <td>2.000000</td>\n",
       "      <td>50.000000</td>\n",
       "      <td>5.000000</td>\n",
       "      <td>0.000000</td>\n",
       "      <td>0.000000</td>\n",
       "      <td>0.000000</td>\n",
       "      <td>0.000000</td>\n",
       "      <td>0.000000</td>\n",
       "      <td>0.000000</td>\n",
       "      <td>0.000000</td>\n",
       "      <td>55.000000</td>\n",
       "      <td>0.000000</td>\n",
       "      <td>1.000000</td>\n",
       "      <td>1.000000</td>\n",
       "      <td>1.000000</td>\n",
       "    </tr>\n",
       "    <tr>\n",
       "      <th>max</th>\n",
       "      <td>11.000000</td>\n",
       "      <td>31.000000</td>\n",
       "      <td>360.000000</td>\n",
       "      <td>3.000000</td>\n",
       "      <td>96.000000</td>\n",
       "      <td>5.000000</td>\n",
       "      <td>1.000000</td>\n",
       "      <td>1.000000</td>\n",
       "      <td>1.000000</td>\n",
       "      <td>1.000000</td>\n",
       "      <td>1.000000</td>\n",
       "      <td>1.000000</td>\n",
       "      <td>1.000000</td>\n",
       "      <td>91.000000</td>\n",
       "      <td>1.000000</td>\n",
       "      <td>1.000000</td>\n",
       "      <td>1.000000</td>\n",
       "      <td>1.000000</td>\n",
       "    </tr>\n",
       "  </tbody>\n",
       "</table>\n",
       "</div>"
      ],
      "text/plain": [
       "       usual_sleep_per_night  naps_per_month  length_of_average_nap  \\\n",
       "count             952.000000      952.000000             952.000000   \n",
       "mean                6.678138        3.340336              31.005252   \n",
       "std                 1.136658        6.118677              42.404677   \n",
       "min                 1.000000        0.000000               0.000000   \n",
       "25%                 6.000000        0.000000               0.000000   \n",
       "50%                 7.000000        1.000000              15.000000   \n",
       "75%                 7.500000        4.000000              60.000000   \n",
       "max                11.000000       31.000000             360.000000   \n",
       "\n",
       "       employment_status  avg_weekly_hours_worked      snores  \\\n",
       "count         952.000000               952.000000  952.000000   \n",
       "mean            2.000000                45.038866    2.152311   \n",
       "std             0.366872                10.321721    2.026874   \n",
       "min             1.000000                30.000000    0.000000   \n",
       "25%             2.000000                40.000000    0.000000   \n",
       "50%             2.000000                40.000000    1.000000   \n",
       "75%             2.000000                50.000000    5.000000   \n",
       "max             3.000000                96.000000    5.000000   \n",
       "\n",
       "       treated_for_heart_disease  treated_for_high_blood_pressure  \\\n",
       "count                 952.000000                       952.000000   \n",
       "mean                    0.051471                         0.217437   \n",
       "std                     0.221072                         0.412719   \n",
       "min                     0.000000                         0.000000   \n",
       "25%                     0.000000                         0.000000   \n",
       "50%                     0.000000                         0.000000   \n",
       "75%                     0.000000                         0.000000   \n",
       "max                     1.000000                         1.000000   \n",
       "\n",
       "       treated_for_diabetes  treated_for_heartburn_GERD  \\\n",
       "count            952.000000                  952.000000   \n",
       "mean               0.066176                    0.082983   \n",
       "std                0.248721                    0.276002   \n",
       "min                0.000000                    0.000000   \n",
       "25%                0.000000                    0.000000   \n",
       "50%                0.000000                    0.000000   \n",
       "75%                0.000000                    0.000000   \n",
       "max                1.000000                    1.000000   \n",
       "\n",
       "       treated_for_arthritis  treated_for_depression  treated_for_anxiety  \\\n",
       "count             952.000000              952.000000           952.000000   \n",
       "mean                0.073529                0.069328             0.047269   \n",
       "std                 0.261141                0.254144             0.212325   \n",
       "min                 0.000000                0.000000             0.000000   \n",
       "25%                 0.000000                0.000000             0.000000   \n",
       "50%                 0.000000                0.000000             0.000000   \n",
       "75%                 0.000000                0.000000             0.000000   \n",
       "max                 1.000000                1.000000             1.000000   \n",
       "\n",
       "              age  unconvential_awake_time  poor_sleep  has_condition  \\\n",
       "count  952.000000               952.000000  952.000000     952.000000   \n",
       "mean    47.263042                 0.127101    0.466387       0.366597   \n",
       "std     11.635145                 0.333261    0.499131       0.482128   \n",
       "min     18.000000                 0.000000    0.000000       0.000000   \n",
       "25%     39.000000                 0.000000    0.000000       0.000000   \n",
       "50%     48.000000                 0.000000    0.000000       0.000000   \n",
       "75%     55.000000                 0.000000    1.000000       1.000000   \n",
       "max     91.000000                 1.000000    1.000000       1.000000   \n",
       "\n",
       "       overworked  \n",
       "count  952.000000  \n",
       "mean     0.449580  \n",
       "std      0.497713  \n",
       "min      0.000000  \n",
       "25%      0.000000  \n",
       "50%      0.000000  \n",
       "75%      1.000000  \n",
       "max      1.000000  "
      ]
     },
     "execution_count": 22,
     "metadata": {},
     "output_type": "execute_result"
    }
   ],
   "source": [
    "early_work.describe()"
   ]
  },
  {
   "cell_type": "markdown",
   "metadata": {},
   "source": [
    "- People who work night/evening shifts are getting worse sleep than the average. (6.1 hrs vs 6.7)\n",
    "- 44% have health conditions (vs 37% in those with morning start times)"
   ]
  },
  {
   "cell_type": "markdown",
   "metadata": {},
   "source": [
    "## Age"
   ]
  },
  {
   "cell_type": "code",
   "execution_count": 23,
   "metadata": {},
   "outputs": [
    {
     "data": {
      "image/png": "[encoded data removed]",
      "text/plain": [
       "<Figure size 432x288 with 1 Axes>"
      ]
     },
     "metadata": {
      "needs_background": "light"
     },
     "output_type": "display_data"
    }
   ],
   "source": [
    "sns.histplot(df['age']);"
   ]
  },
  {
   "cell_type": "markdown",
   "metadata": {},
   "source": [
    "- Participants are mainly between their 40s and 60s"
   ]
  },
  {
   "cell_type": "markdown",
   "metadata": {},
   "source": [
    "- People older than 30 are getting the same amount of sleep per night as those in their 20s. My assumption would be that one group would be higher than the other due to either partying or work."
   ]
  },
  {
   "cell_type": "code",
   "execution_count": 43,
   "metadata": {
    "scrolled": true
   },
   "outputs": [
    {
     "data": {
      "image/png": "[encoded data removed]",
      "text/plain": [
       "<Figure size 792x360 with 1 Axes>"
      ]
     },
     "metadata": {
      "needs_background": "light"
     },
     "output_type": "display_data"
    }
   ],
   "source": [
    "plt.figure(figsize = (11, 5))\n",
    "sns.scatterplot(x=df['age'], y=df['usual_sleep_per_night'])\n",
    "plt.xlabel('Age')\n",
    "plt.legend(labels = ['Age / Avg Sleep per Night']);"
   ]
  },
  {
   "cell_type": "markdown",
   "metadata": {},
   "source": [
    "- There does not seem to be much correlation between age and usual amount of sleep."
   ]
  },
  {
   "cell_type": "markdown",
   "metadata": {},
   "source": [
    "## Income"
   ]
  },
  {
   "cell_type": "code",
   "execution_count": 25,
   "metadata": {},
   "outputs": [
    {
     "data": {
      "image/png": "[encoded data removed]",
      "text/plain": [
       "<Figure size 720x360 with 1 Axes>"
      ]
     },
     "metadata": {
      "needs_background": "light"
     },
     "output_type": "display_data"
    }
   ],
   "source": [
    "plt.figure(figsize = (10,5))\n",
    "df['house_hold_income_bracket'].value_counts().plot(kind = 'barh');"
   ]
  },
  {
   "cell_type": "code",
   "execution_count": 26,
   "metadata": {},
   "outputs": [
    {
     "data": {
      "text/plain": [
       "<Figure size 2880x2880 with 0 Axes>"
      ]
     },
     "metadata": {},
     "output_type": "display_data"
    },
    {
     "data": {
      "image/png": "[encoded data removed]",
      "text/plain": [
       "<Figure size 432x288 with 1 Axes>"
      ]
     },
     "metadata": {
      "needs_background": "light"
     },
     "output_type": "display_data"
    }
   ],
   "source": [
    "plt.figure(figsize = (40,40))\n",
    "df.drop(columns = ['length_of_average_nap',\n",
    "                   'naps_per_month', 'age', \n",
    "                   'usual_sleep_per_night',\n",
    "                   'employment_status',\n",
    "                   'avg_weekly_hours_worked',\n",
    "                   'unconvential_awake_time',\n",
    "                   'snores',\n",
    "                   'poor_sleep',\n",
    "                   'overworked']).groupby('house_hold_income_bracket').mean().T.plot(kind='bar');"
   ]
  },
  {
   "cell_type": "markdown",
   "metadata": {},
   "source": [
    "Participants who make under $15,000 are more likely to have a health condition and also far more likely to be getting poor sleep. They are also more likely to be treated for depression, anxiety and diabetes. "
   ]
  },
  {
   "cell_type": "code",
   "execution_count": 27,
   "metadata": {},
   "outputs": [
    {
     "data": {
      "text/plain": [
       "0       $35,001 - $50,000\n",
       "1       $35,001 - $50,000\n",
       "2      More than $100,000\n",
       "3       $35,001 - $50,000\n",
       "4      More than $100,000\n",
       "              ...        \n",
       "995                   NaN\n",
       "996     $50,001 - $75,000\n",
       "997     $50,001 - $75,000\n",
       "998     $35,001 - $50,000\n",
       "999                   NaN\n",
       "Name: house_hold_income_bracket, Length: 1000, dtype: object"
      ]
     },
     "execution_count": 27,
     "metadata": {},
     "output_type": "execute_result"
    }
   ],
   "source": [
    "df['house_hold_income_bracket']"
   ]
  },
  {
   "cell_type": "code",
   "execution_count": 28,
   "metadata": {},
   "outputs": [
    {
     "data": {
      "text/html": [
       "<div>\n",
       "<style scoped>\n",
       "    .dataframe tbody tr th:only-of-type {\n",
       "        vertical-align: middle;\n",
       "    }\n",
       "\n",
       "    .dataframe tbody tr th {\n",
       "        vertical-align: top;\n",
       "    }\n",
       "\n",
       "    .dataframe thead th {\n",
       "        text-align: right;\n",
       "    }\n",
       "</style>\n",
       "<table border=\"1\" class=\"dataframe\">\n",
       "  <thead>\n",
       "    <tr style=\"text-align: right;\">\n",
       "      <th></th>\n",
       "      <th>usual_sleep_per_night</th>\n",
       "      <th>naps_per_month</th>\n",
       "      <th>length_of_average_nap</th>\n",
       "      <th>employment_status</th>\n",
       "      <th>avg_weekly_hours_worked</th>\n",
       "      <th>snores</th>\n",
       "      <th>treated_for_heart_disease</th>\n",
       "      <th>treated_for_high_blood_pressure</th>\n",
       "      <th>treated_for_diabetes</th>\n",
       "      <th>treated_for_heartburn_GERD</th>\n",
       "      <th>treated_for_arthritis</th>\n",
       "      <th>treated_for_depression</th>\n",
       "      <th>treated_for_anxiety</th>\n",
       "      <th>age</th>\n",
       "      <th>unconvential_awake_time</th>\n",
       "      <th>poor_sleep</th>\n",
       "      <th>has_condition</th>\n",
       "      <th>overworked</th>\n",
       "    </tr>\n",
       "    <tr>\n",
       "      <th>house_hold_income_bracket</th>\n",
       "      <th></th>\n",
       "      <th></th>\n",
       "      <th></th>\n",
       "      <th></th>\n",
       "      <th></th>\n",
       "      <th></th>\n",
       "      <th></th>\n",
       "      <th></th>\n",
       "      <th></th>\n",
       "      <th></th>\n",
       "      <th></th>\n",
       "      <th></th>\n",
       "      <th></th>\n",
       "      <th></th>\n",
       "      <th></th>\n",
       "      <th></th>\n",
       "      <th></th>\n",
       "      <th></th>\n",
       "    </tr>\n",
       "  </thead>\n",
       "  <tbody>\n",
       "    <tr>\n",
       "      <th>$15,000 - $25,000</th>\n",
       "      <td>6.782765</td>\n",
       "      <td>5.156250</td>\n",
       "      <td>47.656250</td>\n",
       "      <td>1.953125</td>\n",
       "      <td>43.750000</td>\n",
       "      <td>2.531250</td>\n",
       "      <td>0.062500</td>\n",
       "      <td>0.265625</td>\n",
       "      <td>0.062500</td>\n",
       "      <td>0.078125</td>\n",
       "      <td>0.171875</td>\n",
       "      <td>0.046875</td>\n",
       "      <td>0.031250</td>\n",
       "      <td>50.113006</td>\n",
       "      <td>0.156250</td>\n",
       "      <td>0.453125</td>\n",
       "      <td>0.390625</td>\n",
       "      <td>0.296875</td>\n",
       "    </tr>\n",
       "    <tr>\n",
       "      <th>$25,001 - $35,000</th>\n",
       "      <td>6.417171</td>\n",
       "      <td>4.040541</td>\n",
       "      <td>41.081081</td>\n",
       "      <td>2.094595</td>\n",
       "      <td>42.351351</td>\n",
       "      <td>1.648649</td>\n",
       "      <td>0.067568</td>\n",
       "      <td>0.270270</td>\n",
       "      <td>0.067568</td>\n",
       "      <td>0.135135</td>\n",
       "      <td>0.108108</td>\n",
       "      <td>0.094595</td>\n",
       "      <td>0.081081</td>\n",
       "      <td>46.797297</td>\n",
       "      <td>0.202703</td>\n",
       "      <td>0.554054</td>\n",
       "      <td>0.459459</td>\n",
       "      <td>0.378378</td>\n",
       "    </tr>\n",
       "    <tr>\n",
       "      <th>$35,001 - $50,000</th>\n",
       "      <td>6.556656</td>\n",
       "      <td>4.229730</td>\n",
       "      <td>34.054054</td>\n",
       "      <td>1.966216</td>\n",
       "      <td>44.310811</td>\n",
       "      <td>1.777027</td>\n",
       "      <td>0.054054</td>\n",
       "      <td>0.202703</td>\n",
       "      <td>0.047297</td>\n",
       "      <td>0.094595</td>\n",
       "      <td>0.067568</td>\n",
       "      <td>0.094595</td>\n",
       "      <td>0.047297</td>\n",
       "      <td>44.692330</td>\n",
       "      <td>0.128378</td>\n",
       "      <td>0.500000</td>\n",
       "      <td>0.351351</td>\n",
       "      <td>0.364865</td>\n",
       "    </tr>\n",
       "    <tr>\n",
       "      <th>$50,001 - $75,000</th>\n",
       "      <td>6.634404</td>\n",
       "      <td>3.206612</td>\n",
       "      <td>33.789256</td>\n",
       "      <td>1.987603</td>\n",
       "      <td>44.256198</td>\n",
       "      <td>2.247934</td>\n",
       "      <td>0.041322</td>\n",
       "      <td>0.235537</td>\n",
       "      <td>0.090909</td>\n",
       "      <td>0.078512</td>\n",
       "      <td>0.090909</td>\n",
       "      <td>0.107438</td>\n",
       "      <td>0.045455</td>\n",
       "      <td>46.286084</td>\n",
       "      <td>0.177686</td>\n",
       "      <td>0.479339</td>\n",
       "      <td>0.409091</td>\n",
       "      <td>0.404959</td>\n",
       "    </tr>\n",
       "    <tr>\n",
       "      <th>More than $100,000</th>\n",
       "      <td>6.802444</td>\n",
       "      <td>3.576159</td>\n",
       "      <td>31.456954</td>\n",
       "      <td>2.019868</td>\n",
       "      <td>45.682119</td>\n",
       "      <td>2.331126</td>\n",
       "      <td>0.046358</td>\n",
       "      <td>0.198675</td>\n",
       "      <td>0.052980</td>\n",
       "      <td>0.105960</td>\n",
       "      <td>0.066225</td>\n",
       "      <td>0.039735</td>\n",
       "      <td>0.039735</td>\n",
       "      <td>45.956721</td>\n",
       "      <td>0.145695</td>\n",
       "      <td>0.417219</td>\n",
       "      <td>0.357616</td>\n",
       "      <td>0.490066</td>\n",
       "    </tr>\n",
       "    <tr>\n",
       "      <th>Under $15,000</th>\n",
       "      <td>6.128016</td>\n",
       "      <td>2.500000</td>\n",
       "      <td>23.500000</td>\n",
       "      <td>2.400000</td>\n",
       "      <td>36.250000</td>\n",
       "      <td>1.600000</td>\n",
       "      <td>0.100000</td>\n",
       "      <td>0.200000</td>\n",
       "      <td>0.150000</td>\n",
       "      <td>0.100000</td>\n",
       "      <td>0.050000</td>\n",
       "      <td>0.150000</td>\n",
       "      <td>0.150000</td>\n",
       "      <td>48.750000</td>\n",
       "      <td>0.100000</td>\n",
       "      <td>0.650000</td>\n",
       "      <td>0.600000</td>\n",
       "      <td>0.100000</td>\n",
       "    </tr>\n",
       "  </tbody>\n",
       "</table>\n",
       "</div>"
      ],
      "text/plain": [
       "                           usual_sleep_per_night  naps_per_month  \\\n",
       "house_hold_income_bracket                                          \n",
       "$15,000 - $25,000                       6.782765        5.156250   \n",
       "$25,001 - $35,000                       6.417171        4.040541   \n",
       "$35,001 - $50,000                       6.556656        4.229730   \n",
       "$50,001 - $75,000                       6.634404        3.206612   \n",
       "More than $100,000                      6.802444        3.576159   \n",
       "Under $15,000                           6.128016        2.500000   \n",
       "\n",
       "                           length_of_average_nap  employment_status  \\\n",
       "house_hold_income_bracket                                             \n",
       "$15,000 - $25,000                      47.656250           1.953125   \n",
       "$25,001 - $35,000                      41.081081           2.094595   \n",
       "$35,001 - $50,000                      34.054054           1.966216   \n",
       "$50,001 - $75,000                      33.789256           1.987603   \n",
       "More than $100,000                     31.456954           2.019868   \n",
       "Under $15,000                          23.500000           2.400000   \n",
       "\n",
       "                           avg_weekly_hours_worked    snores  \\\n",
       "house_hold_income_bracket                                      \n",
       "$15,000 - $25,000                        43.750000  2.531250   \n",
       "$25,001 - $35,000                        42.351351  1.648649   \n",
       "$35,001 - $50,000                        44.310811  1.777027   \n",
       "$50,001 - $75,000                        44.256198  2.247934   \n",
       "More than $100,000                       45.682119  2.331126   \n",
       "Under $15,000                            36.250000  1.600000   \n",
       "\n",
       "                           treated_for_heart_disease  \\\n",
       "house_hold_income_bracket                              \n",
       "$15,000 - $25,000                           0.062500   \n",
       "$25,001 - $35,000                           0.067568   \n",
       "$35,001 - $50,000                           0.054054   \n",
       "$50,001 - $75,000                           0.041322   \n",
       "More than $100,000                          0.046358   \n",
       "Under $15,000                               0.100000   \n",
       "\n",
       "                           treated_for_high_blood_pressure  \\\n",
       "house_hold_income_bracket                                    \n",
       "$15,000 - $25,000                                 0.265625   \n",
       "$25,001 - $35,000                                 0.270270   \n",
       "$35,001 - $50,000                                 0.202703   \n",
       "$50,001 - $75,000                                 0.235537   \n",
       "More than $100,000                                0.198675   \n",
       "Under $15,000                                     0.200000   \n",
       "\n",
       "                           treated_for_diabetes  treated_for_heartburn_GERD  \\\n",
       "house_hold_income_bracket                                                     \n",
       "$15,000 - $25,000                      0.062500                    0.078125   \n",
       "$25,001 - $35,000                      0.067568                    0.135135   \n",
       "$35,001 - $50,000                      0.047297                    0.094595   \n",
       "$50,001 - $75,000                      0.090909                    0.078512   \n",
       "More than $100,000                     0.052980                    0.105960   \n",
       "Under $15,000                          0.150000                    0.100000   \n",
       "\n",
       "                           treated_for_arthritis  treated_for_depression  \\\n",
       "house_hold_income_bracket                                                  \n",
       "$15,000 - $25,000                       0.171875                0.046875   \n",
       "$25,001 - $35,000                       0.108108                0.094595   \n",
       "$35,001 - $50,000                       0.067568                0.094595   \n",
       "$50,001 - $75,000                       0.090909                0.107438   \n",
       "More than $100,000                      0.066225                0.039735   \n",
       "Under $15,000                           0.050000                0.150000   \n",
       "\n",
       "                           treated_for_anxiety        age  \\\n",
       "house_hold_income_bracket                                   \n",
       "$15,000 - $25,000                     0.031250  50.113006   \n",
       "$25,001 - $35,000                     0.081081  46.797297   \n",
       "$35,001 - $50,000                     0.047297  44.692330   \n",
       "$50,001 - $75,000                     0.045455  46.286084   \n",
       "More than $100,000                    0.039735  45.956721   \n",
       "Under $15,000                         0.150000  48.750000   \n",
       "\n",
       "                           unconvential_awake_time  poor_sleep  has_condition  \\\n",
       "house_hold_income_bracket                                                       \n",
       "$15,000 - $25,000                         0.156250    0.453125       0.390625   \n",
       "$25,001 - $35,000                         0.202703    0.554054       0.459459   \n",
       "$35,001 - $50,000                         0.128378    0.500000       0.351351   \n",
       "$50,001 - $75,000                         0.177686    0.479339       0.409091   \n",
       "More than $100,000                        0.145695    0.417219       0.357616   \n",
       "Under $15,000                             0.100000    0.650000       0.600000   \n",
       "\n",
       "                           overworked  \n",
       "house_hold_income_bracket              \n",
       "$15,000 - $25,000            0.296875  \n",
       "$25,001 - $35,000            0.378378  \n",
       "$35,001 - $50,000            0.364865  \n",
       "$50,001 - $75,000            0.404959  \n",
       "More than $100,000           0.490066  \n",
       "Under $15,000                0.100000  "
      ]
     },
     "execution_count": 28,
     "metadata": {},
     "output_type": "execute_result"
    }
   ],
   "source": [
    "df.groupby('house_hold_income_bracket').mean()"
   ]
  },
  {
   "cell_type": "markdown",
   "metadata": {},
   "source": [
    "Those making more than 100,000 are getting the most sleep, average 6.8 hours per night while those in the lowest range(under 15,000) are sleeping the least with 6.1 hours per night"
   ]
  },
  {
   "cell_type": "code",
   "execution_count": 29,
   "metadata": {},
   "outputs": [
    {
     "data": {
      "text/html": [
       "<div>\n",
       "<style scoped>\n",
       "    .dataframe tbody tr th:only-of-type {\n",
       "        vertical-align: middle;\n",
       "    }\n",
       "\n",
       "    .dataframe tbody tr th {\n",
       "        vertical-align: top;\n",
       "    }\n",
       "\n",
       "    .dataframe thead th {\n",
       "        text-align: right;\n",
       "    }\n",
       "</style>\n",
       "<table border=\"1\" class=\"dataframe\">\n",
       "  <thead>\n",
       "    <tr style=\"text-align: right;\">\n",
       "      <th>overworked</th>\n",
       "      <th>0</th>\n",
       "      <th>1</th>\n",
       "    </tr>\n",
       "  </thead>\n",
       "  <tbody>\n",
       "    <tr>\n",
       "      <th>naps_per_month</th>\n",
       "      <td>3.721724</td>\n",
       "      <td>3.207675</td>\n",
       "    </tr>\n",
       "    <tr>\n",
       "      <th>length_of_average_nap</th>\n",
       "      <td>33.603232</td>\n",
       "      <td>29.345372</td>\n",
       "    </tr>\n",
       "    <tr>\n",
       "      <th>snores</th>\n",
       "      <td>1.980251</td>\n",
       "      <td>2.349887</td>\n",
       "    </tr>\n",
       "    <tr>\n",
       "      <th>poor_sleep</th>\n",
       "      <td>0.457810</td>\n",
       "      <td>0.498871</td>\n",
       "    </tr>\n",
       "    <tr>\n",
       "      <th>has_condition</th>\n",
       "      <td>0.387792</td>\n",
       "      <td>0.347630</td>\n",
       "    </tr>\n",
       "    <tr>\n",
       "      <th>treated_for_anxiety</th>\n",
       "      <td>0.052065</td>\n",
       "      <td>0.036117</td>\n",
       "    </tr>\n",
       "  </tbody>\n",
       "</table>\n",
       "</div>"
      ],
      "text/plain": [
       "overworked                     0          1\n",
       "naps_per_month          3.721724   3.207675\n",
       "length_of_average_nap  33.603232  29.345372\n",
       "snores                  1.980251   2.349887\n",
       "poor_sleep              0.457810   0.498871\n",
       "has_condition           0.387792   0.347630\n",
       "treated_for_anxiety     0.052065   0.036117"
      ]
     },
     "execution_count": 29,
     "metadata": {},
     "output_type": "execute_result"
    }
   ],
   "source": [
    "df[['naps_per_month',\n",
    "    'length_of_average_nap',\n",
    "    'snores',\n",
    "    'poor_sleep',\n",
    "    'overworked',\n",
    "    'has_condition',\n",
    "    'treated_for_anxiety']].groupby('overworked').mean().T"
   ]
  },
  {
   "cell_type": "markdown",
   "metadata": {},
   "source": []
  }
 ],
 "metadata": {
  "kernelspec": {
   "display_name": "Python 3",
   "language": "python",
   "name": "python3"
  },
  "language_info": {
   "codemirror_mode": {
    "name": "ipython",
    "version": 3
   },
   "file_extension": ".py",
   "mimetype": "text/x-python",
   "name": "python",
   "nbconvert_exporter": "python",
   "pygments_lexer": "ipython3",
   "version": "3.8.5"
  }
 },
 "nbformat": 4,
 "nbformat_minor": 4
}
