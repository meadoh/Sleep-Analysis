{
 "cells": [
  {
   "cell_type": "code",
   "execution_count": 1,
   "metadata": {},
   "outputs": [],
   "source": [
    "import numpy as np\n",
    "import pandas as pd\n",
    "from sklearn.linear_model import LogisticRegression\n",
    "from sklearn.model_selection import train_test_split\n",
    "from sklearn.metrics import confusion_matrix\n",
    "import seaborn as sns\n",
    "from sklearn.model_selection import GridSearchCV\n",
    "from sklearn.pipeline import Pipeline\n",
    "from imblearn.over_sampling import SMOTE\n",
    "\n",
    "from sklearn.metrics import mean_squared_error\n",
    "from sklearn.metrics import precision_score, accuracy_score, recall_score, f1_score\n",
    "\n",
    "import matplotlib.pyplot as plt\n",
    "\n",
    "import warnings\n",
    "warnings.filterwarnings('ignore')"
   ]
  },
  {
   "cell_type": "code",
   "execution_count": 2,
   "metadata": {},
   "outputs": [
    {
     "data": {
      "text/html": [
       "<div>\n",
       "<style scoped>\n",
       "    .dataframe tbody tr th:only-of-type {\n",
       "        vertical-align: middle;\n",
       "    }\n",
       "\n",
       "    .dataframe tbody tr th {\n",
       "        vertical-align: top;\n",
       "    }\n",
       "\n",
       "    .dataframe thead th {\n",
       "        text-align: right;\n",
       "    }\n",
       "</style>\n",
       "<table border=\"1\" class=\"dataframe\">\n",
       "  <thead>\n",
       "    <tr style=\"text-align: right;\">\n",
       "      <th></th>\n",
       "      <th>awake_time</th>\n",
       "      <th>start_work</th>\n",
       "      <th>end_work</th>\n",
       "      <th>bed_time_work_tomorrow</th>\n",
       "      <th>no_work_awake_time</th>\n",
       "      <th>bed_time_no_work_tomorrow</th>\n",
       "      <th>usual_sleep_per_night</th>\n",
       "      <th>naps_per_month</th>\n",
       "      <th>length_of_average_nap</th>\n",
       "      <th>employment_status</th>\n",
       "      <th>...</th>\n",
       "      <th>highest_edu_Some college</th>\n",
       "      <th>highest_edu_Some high school</th>\n",
       "      <th>highest_edu_Vocational/Tech school</th>\n",
       "      <th>single_dual_household_Single income</th>\n",
       "      <th>house_hold_income_bracket_$25,001 - $35,000</th>\n",
       "      <th>house_hold_income_bracket_$35,001 - $50,000</th>\n",
       "      <th>house_hold_income_bracket_$50,001 - $75,000</th>\n",
       "      <th>house_hold_income_bracket_More than $100,000</th>\n",
       "      <th>house_hold_income_bracket_NA</th>\n",
       "      <th>house_hold_income_bracket_Under $15,000</th>\n",
       "    </tr>\n",
       "  </thead>\n",
       "  <tbody>\n",
       "    <tr>\n",
       "      <th>0</th>\n",
       "      <td>7:00 AM – 7:14 AM</td>\n",
       "      <td>9:00 AM – 9:14 AM</td>\n",
       "      <td>6:45 AM – 6:59 AM</td>\n",
       "      <td>8:45 AM – 8:59 AM</td>\n",
       "      <td>7:00 AM – 7:14 AM</td>\n",
       "      <td>8:30 AM – 8:44 AM</td>\n",
       "      <td>7.000000</td>\n",
       "      <td>0</td>\n",
       "      <td>0.0</td>\n",
       "      <td>1</td>\n",
       "      <td>...</td>\n",
       "      <td>1</td>\n",
       "      <td>0</td>\n",
       "      <td>0</td>\n",
       "      <td>1</td>\n",
       "      <td>0</td>\n",
       "      <td>1</td>\n",
       "      <td>0</td>\n",
       "      <td>0</td>\n",
       "      <td>0</td>\n",
       "      <td>0</td>\n",
       "    </tr>\n",
       "    <tr>\n",
       "      <th>1</th>\n",
       "      <td>5:00 AM – 5:14 AM</td>\n",
       "      <td>7:00 AM – 7:14 AM</td>\n",
       "      <td>7:00 AM – 7:14 AM</td>\n",
       "      <td>7:15 AM – 7:29 AM</td>\n",
       "      <td>7:00 AM – 7:14 AM</td>\n",
       "      <td>7:45 AM – 7:59 AM</td>\n",
       "      <td>6.000000</td>\n",
       "      <td>25</td>\n",
       "      <td>15.0</td>\n",
       "      <td>2</td>\n",
       "      <td>...</td>\n",
       "      <td>0</td>\n",
       "      <td>0</td>\n",
       "      <td>1</td>\n",
       "      <td>0</td>\n",
       "      <td>0</td>\n",
       "      <td>1</td>\n",
       "      <td>0</td>\n",
       "      <td>0</td>\n",
       "      <td>0</td>\n",
       "      <td>0</td>\n",
       "    </tr>\n",
       "    <tr>\n",
       "      <th>2</th>\n",
       "      <td>12:01 AM – 4:59 AM</td>\n",
       "      <td>5:00 AM – 5:14 AM</td>\n",
       "      <td>7:15 AM – 7:29 AM</td>\n",
       "      <td>7:45 AM – 7:59 AM</td>\n",
       "      <td>7:00 AM – 7:14 AM</td>\n",
       "      <td>7:45 AM – 7:59 AM</td>\n",
       "      <td>5.000000</td>\n",
       "      <td>0</td>\n",
       "      <td>0.0</td>\n",
       "      <td>2</td>\n",
       "      <td>...</td>\n",
       "      <td>1</td>\n",
       "      <td>0</td>\n",
       "      <td>0</td>\n",
       "      <td>0</td>\n",
       "      <td>0</td>\n",
       "      <td>0</td>\n",
       "      <td>0</td>\n",
       "      <td>1</td>\n",
       "      <td>0</td>\n",
       "      <td>0</td>\n",
       "    </tr>\n",
       "    <tr>\n",
       "      <th>3</th>\n",
       "      <td>5:45 AM – 5:59 AM</td>\n",
       "      <td>7:00 AM – 7:14 AM</td>\n",
       "      <td>6:30 AM – 6:44 AM</td>\n",
       "      <td>8:45 AM – 8:59 AM</td>\n",
       "      <td>8:00 AM – 8:14 AM</td>\n",
       "      <td>12:00 AM</td>\n",
       "      <td>6.500000</td>\n",
       "      <td>10</td>\n",
       "      <td>60.0</td>\n",
       "      <td>2</td>\n",
       "      <td>...</td>\n",
       "      <td>1</td>\n",
       "      <td>0</td>\n",
       "      <td>0</td>\n",
       "      <td>0</td>\n",
       "      <td>0</td>\n",
       "      <td>1</td>\n",
       "      <td>0</td>\n",
       "      <td>0</td>\n",
       "      <td>0</td>\n",
       "      <td>0</td>\n",
       "    </tr>\n",
       "    <tr>\n",
       "      <th>4</th>\n",
       "      <td>12:01 AM – 4:59 AM</td>\n",
       "      <td>8:30 AM – 8:44 AM</td>\n",
       "      <td>7:15 AM – 7:29 AM</td>\n",
       "      <td>8:15 AM – 8:29 AM</td>\n",
       "      <td>5:30 AM – 5:44 AM</td>\n",
       "      <td>8:45 AM – 8:59 AM</td>\n",
       "      <td>6.655158</td>\n",
       "      <td>1</td>\n",
       "      <td>60.0</td>\n",
       "      <td>2</td>\n",
       "      <td>...</td>\n",
       "      <td>0</td>\n",
       "      <td>0</td>\n",
       "      <td>0</td>\n",
       "      <td>0</td>\n",
       "      <td>0</td>\n",
       "      <td>0</td>\n",
       "      <td>0</td>\n",
       "      <td>1</td>\n",
       "      <td>0</td>\n",
       "      <td>0</td>\n",
       "    </tr>\n",
       "  </tbody>\n",
       "</table>\n",
       "<p>5 rows × 179 columns</p>\n",
       "</div>"
      ],
      "text/plain": [
       "           awake_time         start_work           end_work  \\\n",
       "0   7:00 AM – 7:14 AM  9:00 AM – 9:14 AM  6:45 AM – 6:59 AM   \n",
       "1   5:00 AM – 5:14 AM  7:00 AM – 7:14 AM  7:00 AM – 7:14 AM   \n",
       "2  12:01 AM – 4:59 AM  5:00 AM – 5:14 AM  7:15 AM – 7:29 AM   \n",
       "3   5:45 AM – 5:59 AM  7:00 AM – 7:14 AM  6:30 AM – 6:44 AM   \n",
       "4  12:01 AM – 4:59 AM  8:30 AM – 8:44 AM  7:15 AM – 7:29 AM   \n",
       "\n",
       "  bed_time_work_tomorrow no_work_awake_time bed_time_no_work_tomorrow  \\\n",
       "0      8:45 AM – 8:59 AM  7:00 AM – 7:14 AM         8:30 AM – 8:44 AM   \n",
       "1      7:15 AM – 7:29 AM  7:00 AM – 7:14 AM         7:45 AM – 7:59 AM   \n",
       "2      7:45 AM – 7:59 AM  7:00 AM – 7:14 AM         7:45 AM – 7:59 AM   \n",
       "3      8:45 AM – 8:59 AM  8:00 AM – 8:14 AM                  12:00 AM   \n",
       "4      8:15 AM – 8:29 AM  5:30 AM – 5:44 AM         8:45 AM – 8:59 AM   \n",
       "\n",
       "   usual_sleep_per_night  naps_per_month  length_of_average_nap  \\\n",
       "0               7.000000               0                    0.0   \n",
       "1               6.000000              25                   15.0   \n",
       "2               5.000000               0                    0.0   \n",
       "3               6.500000              10                   60.0   \n",
       "4               6.655158               1                   60.0   \n",
       "\n",
       "   employment_status  ...  highest_edu_Some college  \\\n",
       "0                  1  ...                         1   \n",
       "1                  2  ...                         0   \n",
       "2                  2  ...                         1   \n",
       "3                  2  ...                         1   \n",
       "4                  2  ...                         0   \n",
       "\n",
       "   highest_edu_Some high school  highest_edu_Vocational/Tech school  \\\n",
       "0                             0                                   0   \n",
       "1                             0                                   1   \n",
       "2                             0                                   0   \n",
       "3                             0                                   0   \n",
       "4                             0                                   0   \n",
       "\n",
       "   single_dual_household_Single income  \\\n",
       "0                                    1   \n",
       "1                                    0   \n",
       "2                                    0   \n",
       "3                                    0   \n",
       "4                                    0   \n",
       "\n",
       "   house_hold_income_bracket_$25,001 - $35,000  \\\n",
       "0                                            0   \n",
       "1                                            0   \n",
       "2                                            0   \n",
       "3                                            0   \n",
       "4                                            0   \n",
       "\n",
       "   house_hold_income_bracket_$35,001 - $50,000  \\\n",
       "0                                            1   \n",
       "1                                            1   \n",
       "2                                            0   \n",
       "3                                            1   \n",
       "4                                            0   \n",
       "\n",
       "   house_hold_income_bracket_$50,001 - $75,000  \\\n",
       "0                                            0   \n",
       "1                                            0   \n",
       "2                                            0   \n",
       "3                                            0   \n",
       "4                                            0   \n",
       "\n",
       "   house_hold_income_bracket_More than $100,000  house_hold_income_bracket_NA  \\\n",
       "0                                             0                             0   \n",
       "1                                             0                             0   \n",
       "2                                             1                             0   \n",
       "3                                             0                             0   \n",
       "4                                             1                             0   \n",
       "\n",
       "   house_hold_income_bracket_Under $15,000  \n",
       "0                                        0  \n",
       "1                                        0  \n",
       "2                                        0  \n",
       "3                                        0  \n",
       "4                                        0  \n",
       "\n",
       "[5 rows x 179 columns]"
      ]
     },
     "execution_count": 2,
     "metadata": {},
     "output_type": "execute_result"
    }
   ],
   "source": [
    "df = pd.read_csv('./datasets/sleep_Modeling.csv', index_col = [0])\n",
    "df.head()"
   ]
  },
  {
   "cell_type": "code",
   "execution_count": 3,
   "metadata": {},
   "outputs": [],
   "source": [
    "condition_col = 'has_condition'"
   ]
  },
  {
   "cell_type": "code",
   "execution_count": 4,
   "metadata": {},
   "outputs": [],
   "source": [
    "# #Undersample non-target observations\n",
    "\n",
    "# df_no = df[df[condition_col] == 0]\n",
    "# df_no = df_no[:250]\n",
    "# df= pd.concat([df_no, df[df[condition_col] == 1]])\n",
    "# df.shape"
   ]
  },
  {
   "cell_type": "code",
   "execution_count": 5,
   "metadata": {},
   "outputs": [],
   "source": [
    "# Select target\n",
    "y = df[condition_col]"
   ]
  },
  {
   "cell_type": "code",
   "execution_count": 6,
   "metadata": {},
   "outputs": [],
   "source": [
    "#Features - Treated for columns will be used as targets. Other columns to be used as targets:\n",
    "treated = [x for x in df.columns if x[:8] == 'treated_']\n",
    "marital = [x for x in df.columns if x[:8] == 'marital_']\n",
    "edu = [x for x in df.columns if x[:8] == 'highest_']\n",
    "income = [x for x in df.columns if x[:8] == 'house_']\n",
    "start_work = [x for x in df.columns if x[:12] == 'start_work_']\n",
    "end_work = [x for x in df.columns if x[:9] == 'end_work_']\n",
    "extra_cols = ['age','poor_sleep', 'has_condition', 'avg_weekly_hours_worked',\n",
    "              'single_dual_household_Single income','employment_status']\n",
    "bed_time_work = [x for x in df.columns if x[:len('bed_time_work_tomorrow_')] == 'bed_time_work_tomorrow_']\n",
    "bed_time_no_work = [x for x in df.columns if x[:len('bed_time_no_work_tomorrow_')] == 'bed_time_no_work_tomorrow_']\n",
    "no_work = [x for x in df.columns if x[:len('no_work_awake_time_')] == 'no_work_awake_time_']\n",
    "awake = [x for x in df.columns if x[:11] == 'awake_time_']"
   ]
  },
  {
   "cell_type": "code",
   "execution_count": 7,
   "metadata": {},
   "outputs": [],
   "source": [
    "# X = df[awake + no_work + bed_time_work + ['naps_per_month', 'length_of_average_nap']]"
   ]
  },
  {
   "cell_type": "code",
   "execution_count": 8,
   "metadata": {},
   "outputs": [],
   "source": [
    "#Select independent variables\n",
    "X = df[['usual_sleep_per_night','unconvential_awake_time', 'naps_per_month', 'length_of_average_nap']]"
   ]
  },
  {
   "cell_type": "code",
   "execution_count": 9,
   "metadata": {},
   "outputs": [
    {
     "name": "stdout",
     "output_type": "stream",
     "text": [
      "usual_sleep_per_night\n",
      "unconvential_awake_time\n",
      "naps_per_month\n",
      "length_of_average_nap\n"
     ]
    }
   ],
   "source": [
    "for i in X.columns:\n",
    "    print(i)"
   ]
  },
  {
   "cell_type": "markdown",
   "metadata": {},
   "source": [
    "**Baseline:**"
   ]
  },
  {
   "cell_type": "code",
   "execution_count": 10,
   "metadata": {},
   "outputs": [
    {
     "data": {
      "text/plain": [
       "0.37"
      ]
     },
     "execution_count": 10,
     "metadata": {},
     "output_type": "execute_result"
    }
   ],
   "source": [
    "#Find t**Spilt the data into test/train**e baseline score\n",
    "\n",
    "df[condition_col].value_counts(normalize = True)[1]"
   ]
  },
  {
   "cell_type": "markdown",
   "metadata": {},
   "source": [
    "**Spilt the data into test/train**"
   ]
  },
  {
   "cell_type": "code",
   "execution_count": 11,
   "metadata": {},
   "outputs": [],
   "source": [
    "X_train, X_test, y_train, y_test = train_test_split(X, y, test_size = .2, random_state = 42)"
   ]
  },
  {
   "cell_type": "markdown",
   "metadata": {},
   "source": [
    "**Use SMOTE to fix class imbalances**"
   ]
  },
  {
   "cell_type": "code",
   "execution_count": 12,
   "metadata": {},
   "outputs": [],
   "source": [
    "os = SMOTE(k_neighbors=3, sampling_strategy='auto', n_jobs = -1)\n",
    "X_train, y_train = SMOTE().fit_resample(X_train, y_train)"
   ]
  },
  {
   "cell_type": "code",
   "execution_count": 13,
   "metadata": {},
   "outputs": [
    {
     "data": {
      "text/plain": [
       "1    0.5\n",
       "0    0.5\n",
       "Name: has_condition, dtype: float64"
      ]
     },
     "execution_count": 13,
     "metadata": {},
     "output_type": "execute_result"
    }
   ],
   "source": [
    "y_train.value_counts(normalize = True)"
   ]
  },
  {
   "cell_type": "markdown",
   "metadata": {},
   "source": [
    "**Logistic Regression with GridsearchCV**"
   ]
  },
  {
   "cell_type": "code",
   "execution_count": 14,
   "metadata": {},
   "outputs": [],
   "source": [
    "# lr = LogisticRegression(n_jobs=-1, random_state = 42)\n",
    "\n",
    "\n",
    "# pipe = Pipeline([('lr', lr)])\n",
    "\n",
    "# prms = {'lr__penalty': ['l1', 'l2', 'elasticnet', 'none'], \n",
    "#         'lr__class_weight':['balanced', 'uniform'],\n",
    "#         'lr__C': [.001, .01, .1, .5, 1, 3]}\n",
    "\n",
    "# gs_lr = GridSearchCV(pipe, param_grid= prms, n_jobs = -1)\n",
    "\n",
    "# gs_lr.fit(X_train, y_train)\n",
    "\n",
    "# gs_lr.best_params_"
   ]
  },
  {
   "cell_type": "code",
   "execution_count": 15,
   "metadata": {},
   "outputs": [
    {
     "data": {
      "text/plain": [
       "{'lr__C': 0.001,\n",
       " 'lr__class_weight': 'uniform',\n",
       " 'lr__fit_intercept': True,\n",
       " 'lr__penalty': 'l2',\n",
       " 'lr__solver': 'newton-cg'}"
      ]
     },
     "execution_count": 15,
     "metadata": {},
     "output_type": "execute_result"
    }
   ],
   "source": [
    "lr = LogisticRegression(n_jobs=-1, random_state = 42)\n",
    "\n",
    "\n",
    "pipe = Pipeline([('lr', lr)])\n",
    "\n",
    "prms = {'lr__penalty': ['l1', 'l2', 'elasticnet','none'],\n",
    "       'lr__solver': ['newton-cg', 'lbfgs', 'liblinear', 'sag', 'saga'],\n",
    "        'lr__class_weight': ['balanced', 'uniform'],\n",
    "       'lr__C': [.001, .01, .1],\n",
    "       'lr__fit_intercept': [True, False]}\n",
    "\n",
    "gs_lr = GridSearchCV(pipe, param_grid= prms, n_jobs = -1)\n",
    "\n",
    "gs_lr.fit(X_train, y_train)\n",
    "\n",
    "gs_lr.best_params_"
   ]
  },
  {
   "cell_type": "code",
   "execution_count": 16,
   "metadata": {},
   "outputs": [
    {
     "data": {
      "text/plain": [
       "0.5604593890599101"
      ]
     },
     "execution_count": 16,
     "metadata": {},
     "output_type": "execute_result"
    }
   ],
   "source": [
    "gs_lr.best_score_"
   ]
  },
  {
   "cell_type": "code",
   "execution_count": 17,
   "metadata": {},
   "outputs": [
    {
     "data": {
      "text/plain": [
       "0.5467836257309941"
      ]
     },
     "execution_count": 17,
     "metadata": {},
     "output_type": "execute_result"
    }
   ],
   "source": [
    "gs_lr.score(X_train, y_train)"
   ]
  },
  {
   "cell_type": "code",
   "execution_count": 18,
   "metadata": {},
   "outputs": [
    {
     "data": {
      "text/plain": [
       "0.525"
      ]
     },
     "execution_count": 18,
     "metadata": {},
     "output_type": "execute_result"
    }
   ],
   "source": [
    "gs_lr.score(X_test, y_test)"
   ]
  },
  {
   "cell_type": "markdown",
   "metadata": {},
   "source": [
    "**Testing Confusion Matrix**"
   ]
  },
  {
   "cell_type": "code",
   "execution_count": 19,
   "metadata": {},
   "outputs": [
    {
     "data": {
      "image/png": "[encoded data removed]",
      "text/plain": [
       "<Figure size 432x288 with 2 Axes>"
      ]
     },
     "metadata": {
      "needs_background": "light"
     },
     "output_type": "display_data"
    }
   ],
   "source": [
    "preds = gs_lr.predict(X_test)\n",
    "\n",
    "cmx = confusion_matrix(y_test, preds)\n",
    "sns.heatmap(cmx, annot = True, cmap = 'coolwarm', fmt = '.1f');"
   ]
  },
  {
   "cell_type": "code",
   "execution_count": 20,
   "metadata": {},
   "outputs": [
    {
     "name": "stdout",
     "output_type": "stream",
     "text": [
      "Precision: 0.42\n",
      "Accuracy: 0.52\n",
      "Recall: 0.41\n",
      "F1:  0.42\n"
     ]
    }
   ],
   "source": [
    "print('Precision:', round(precision_score(y_test, preds),2))\n",
    "print('Accuracy:', round(accuracy_score(y_test, preds),2))\n",
    "print('Recall:', round(recall_score(y_test, preds),2))\n",
    "print('F1: ', round(f1_score(y_test, preds),2))"
   ]
  },
  {
   "cell_type": "markdown",
   "metadata": {},
   "source": [
    "Throughout most stages of modeling, the Logistic Regression model was slightly underfit with training scores performing better than testing. Accuracy and f1 scores were generally low.\n",
    "\n",
    "Grid Search best parameters:\n",
    "- Regularization: Ridge\n",
    "- C (inverse strength of regularization): .01\n",
    "- Class weights: Balanced"
   ]
  },
  {
   "cell_type": "code",
   "execution_count": null,
   "metadata": {},
   "outputs": [],
   "source": []
  },
  {
   "cell_type": "code",
   "execution_count": null,
   "metadata": {},
   "outputs": [],
   "source": []
  }
 ],
 "metadata": {
  "kernelspec": {
   "display_name": "Python 3",
   "language": "python",
   "name": "python3"
  },
  "language_info": {
   "codemirror_mode": {
    "name": "ipython",
    "version": 3
   },
   "file_extension": ".py",
   "mimetype": "text/x-python",
   "name": "python",
   "nbconvert_exporter": "python",
   "pygments_lexer": "ipython3",
   "version": "3.8.5"
  }
 },
 "nbformat": 4,
 "nbformat_minor": 4
}
