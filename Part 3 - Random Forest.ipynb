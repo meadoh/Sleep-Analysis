{
 "cells": [
  {
   "cell_type": "markdown",
   "metadata": {},
   "source": [
    "## Modeling: Sleep and Overall Health\n",
    "\n",
    "The initial goal was to create models which would predict either depression or one of the other health conditions in the dataset. The percentages of observations with these conditions were very low (depression being 6.8%). As the dataset was so imbalanced, the models were generating high accuracy predictions that were merely labeling all observations as 'not the target'. \n",
    "\n",
    "To get around the data imbalance, non-target observations were undersampled. Non-target observations were split, sliced into smaller portions (different portions were tested) and then added back into the dataset. This improved the model slighty. The next step was to try SMOTE, which, when fit on the dataset, generates a higher number of observations of the target variable within the dataset. While this helped, scores were still low. The target variable was then changed to 'has_condition' for the purpose of predicting overall health as opposed to specific conditions. This creates greater percentage of actual target variables to work with. \n",
    "\n",
    "Initial iterations of the model had a great large amount of features because of dummied time range columns. Low accuracy scores made it apparent that a reduction in complexity was needed. The awake_time dummfied columns were replaced with 'unconventional_awake_time', which is a binary column stating whether a participant had a wake time outside of normal hours (5:00am - 10:00am) given a 9-5 work schedule. Columns pertaining to bedtime were dropped as it can be understood from a combination of awake_time and usual_hours_of_sleep_per_night. Columns pertaining to weekday vs weekend sleep were also dropped. Sleep cycles should keep these two fairly similar but had there been more data/time, it would have been left in. Using weekends to catch up on missed sleep during the week is a tatcic of the underslept which might yield something interesting. \n",
    "\n",
    "The classification models tested are Logistic Regression, KNN and Random Forest. Good accuracy and f1 scores show the relationship between sleep and overall health. Out of the three models, Random Forest performed the best, with an accuracy of 65% and 63%, the majority of the predictions being true positives/negatives. This would beat the baseline (55%) and thus shows a relationship between sleep and overall health."
   ]
  },
  {
   "cell_type": "markdown",
   "metadata": {},
   "source": [
    "## Import"
   ]
  },
  {
   "cell_type": "code",
   "execution_count": 1,
   "metadata": {},
   "outputs": [],
   "source": [
    "import numpy as np\n",
    "import pandas as pd\n",
    "from sklearn.model_selection import train_test_split\n",
    "from sklearn.metrics import confusion_matrix\n",
    "import seaborn as sns\n",
    "from sklearn.model_selection import GridSearchCV\n",
    "from sklearn.pipeline import Pipeline\n",
    "\n",
    "from imblearn.over_sampling import SMOTE\n",
    "from sklearn.ensemble import RandomForestClassifier\n",
    "\n",
    "from sklearn.metrics import mean_squared_error\n",
    "from sklearn.metrics import precision_score, recall_score, accuracy_score, f1_score\n",
    "\n",
    "import matplotlib.pyplot as plt\n",
    "\n",
    "import warnings\n",
    "warnings.filterwarnings('ignore')"
   ]
  },
  {
   "cell_type": "markdown",
   "metadata": {},
   "source": [
    "## Data"
   ]
  },
  {
   "cell_type": "code",
   "execution_count": 2,
   "metadata": {},
   "outputs": [],
   "source": [
    "df = pd.read_csv('./datasets/sleep_Modeling.csv', index_col = [0])"
   ]
  },
  {
   "cell_type": "code",
   "execution_count": 3,
   "metadata": {},
   "outputs": [
    {
     "data": {
      "text/html": [
       "<div>\n",
       "<style scoped>\n",
       "    .dataframe tbody tr th:only-of-type {\n",
       "        vertical-align: middle;\n",
       "    }\n",
       "\n",
       "    .dataframe tbody tr th {\n",
       "        vertical-align: top;\n",
       "    }\n",
       "\n",
       "    .dataframe thead th {\n",
       "        text-align: right;\n",
       "    }\n",
       "</style>\n",
       "<table border=\"1\" class=\"dataframe\">\n",
       "  <thead>\n",
       "    <tr style=\"text-align: right;\">\n",
       "      <th></th>\n",
       "      <th>awake_time</th>\n",
       "      <th>start_work</th>\n",
       "      <th>end_work</th>\n",
       "      <th>bed_time_work_tomorrow</th>\n",
       "      <th>no_work_awake_time</th>\n",
       "      <th>bed_time_no_work_tomorrow</th>\n",
       "      <th>usual_sleep_per_night</th>\n",
       "      <th>naps_per_month</th>\n",
       "      <th>length_of_average_nap</th>\n",
       "      <th>employment_status</th>\n",
       "      <th>...</th>\n",
       "      <th>highest_edu_Some college</th>\n",
       "      <th>highest_edu_Some high school</th>\n",
       "      <th>highest_edu_Vocational/Tech school</th>\n",
       "      <th>single_dual_household_Single income</th>\n",
       "      <th>house_hold_income_bracket_$25,001 - $35,000</th>\n",
       "      <th>house_hold_income_bracket_$35,001 - $50,000</th>\n",
       "      <th>house_hold_income_bracket_$50,001 - $75,000</th>\n",
       "      <th>house_hold_income_bracket_More than $100,000</th>\n",
       "      <th>house_hold_income_bracket_NA</th>\n",
       "      <th>house_hold_income_bracket_Under $15,000</th>\n",
       "    </tr>\n",
       "  </thead>\n",
       "  <tbody>\n",
       "    <tr>\n",
       "      <th>0</th>\n",
       "      <td>7:00 AM – 7:14 AM</td>\n",
       "      <td>9:00 AM – 9:14 AM</td>\n",
       "      <td>6:45 AM – 6:59 AM</td>\n",
       "      <td>8:45 AM – 8:59 AM</td>\n",
       "      <td>7:00 AM – 7:14 AM</td>\n",
       "      <td>8:30 AM – 8:44 AM</td>\n",
       "      <td>7.000000</td>\n",
       "      <td>0</td>\n",
       "      <td>0.0</td>\n",
       "      <td>1</td>\n",
       "      <td>...</td>\n",
       "      <td>1</td>\n",
       "      <td>0</td>\n",
       "      <td>0</td>\n",
       "      <td>1</td>\n",
       "      <td>0</td>\n",
       "      <td>1</td>\n",
       "      <td>0</td>\n",
       "      <td>0</td>\n",
       "      <td>0</td>\n",
       "      <td>0</td>\n",
       "    </tr>\n",
       "    <tr>\n",
       "      <th>1</th>\n",
       "      <td>5:00 AM – 5:14 AM</td>\n",
       "      <td>7:00 AM – 7:14 AM</td>\n",
       "      <td>7:00 AM – 7:14 AM</td>\n",
       "      <td>7:15 AM – 7:29 AM</td>\n",
       "      <td>7:00 AM – 7:14 AM</td>\n",
       "      <td>7:45 AM – 7:59 AM</td>\n",
       "      <td>6.000000</td>\n",
       "      <td>25</td>\n",
       "      <td>15.0</td>\n",
       "      <td>2</td>\n",
       "      <td>...</td>\n",
       "      <td>0</td>\n",
       "      <td>0</td>\n",
       "      <td>1</td>\n",
       "      <td>0</td>\n",
       "      <td>0</td>\n",
       "      <td>1</td>\n",
       "      <td>0</td>\n",
       "      <td>0</td>\n",
       "      <td>0</td>\n",
       "      <td>0</td>\n",
       "    </tr>\n",
       "    <tr>\n",
       "      <th>2</th>\n",
       "      <td>12:01 AM – 4:59 AM</td>\n",
       "      <td>5:00 AM – 5:14 AM</td>\n",
       "      <td>7:15 AM – 7:29 AM</td>\n",
       "      <td>7:45 AM – 7:59 AM</td>\n",
       "      <td>7:00 AM – 7:14 AM</td>\n",
       "      <td>7:45 AM – 7:59 AM</td>\n",
       "      <td>5.000000</td>\n",
       "      <td>0</td>\n",
       "      <td>0.0</td>\n",
       "      <td>2</td>\n",
       "      <td>...</td>\n",
       "      <td>1</td>\n",
       "      <td>0</td>\n",
       "      <td>0</td>\n",
       "      <td>0</td>\n",
       "      <td>0</td>\n",
       "      <td>0</td>\n",
       "      <td>0</td>\n",
       "      <td>1</td>\n",
       "      <td>0</td>\n",
       "      <td>0</td>\n",
       "    </tr>\n",
       "    <tr>\n",
       "      <th>3</th>\n",
       "      <td>5:45 AM – 5:59 AM</td>\n",
       "      <td>7:00 AM – 7:14 AM</td>\n",
       "      <td>6:30 AM – 6:44 AM</td>\n",
       "      <td>8:45 AM – 8:59 AM</td>\n",
       "      <td>8:00 AM – 8:14 AM</td>\n",
       "      <td>12:00 AM</td>\n",
       "      <td>6.500000</td>\n",
       "      <td>10</td>\n",
       "      <td>60.0</td>\n",
       "      <td>2</td>\n",
       "      <td>...</td>\n",
       "      <td>1</td>\n",
       "      <td>0</td>\n",
       "      <td>0</td>\n",
       "      <td>0</td>\n",
       "      <td>0</td>\n",
       "      <td>1</td>\n",
       "      <td>0</td>\n",
       "      <td>0</td>\n",
       "      <td>0</td>\n",
       "      <td>0</td>\n",
       "    </tr>\n",
       "    <tr>\n",
       "      <th>4</th>\n",
       "      <td>12:01 AM – 4:59 AM</td>\n",
       "      <td>8:30 AM – 8:44 AM</td>\n",
       "      <td>7:15 AM – 7:29 AM</td>\n",
       "      <td>8:15 AM – 8:29 AM</td>\n",
       "      <td>5:30 AM – 5:44 AM</td>\n",
       "      <td>8:45 AM – 8:59 AM</td>\n",
       "      <td>6.655158</td>\n",
       "      <td>1</td>\n",
       "      <td>60.0</td>\n",
       "      <td>2</td>\n",
       "      <td>...</td>\n",
       "      <td>0</td>\n",
       "      <td>0</td>\n",
       "      <td>0</td>\n",
       "      <td>0</td>\n",
       "      <td>0</td>\n",
       "      <td>0</td>\n",
       "      <td>0</td>\n",
       "      <td>1</td>\n",
       "      <td>0</td>\n",
       "      <td>0</td>\n",
       "    </tr>\n",
       "  </tbody>\n",
       "</table>\n",
       "<p>5 rows × 179 columns</p>\n",
       "</div>"
      ],
      "text/plain": [
       "           awake_time         start_work           end_work  \\\n",
       "0   7:00 AM – 7:14 AM  9:00 AM – 9:14 AM  6:45 AM – 6:59 AM   \n",
       "1   5:00 AM – 5:14 AM  7:00 AM – 7:14 AM  7:00 AM – 7:14 AM   \n",
       "2  12:01 AM – 4:59 AM  5:00 AM – 5:14 AM  7:15 AM – 7:29 AM   \n",
       "3   5:45 AM – 5:59 AM  7:00 AM – 7:14 AM  6:30 AM – 6:44 AM   \n",
       "4  12:01 AM – 4:59 AM  8:30 AM – 8:44 AM  7:15 AM – 7:29 AM   \n",
       "\n",
       "  bed_time_work_tomorrow no_work_awake_time bed_time_no_work_tomorrow  \\\n",
       "0      8:45 AM – 8:59 AM  7:00 AM – 7:14 AM         8:30 AM – 8:44 AM   \n",
       "1      7:15 AM – 7:29 AM  7:00 AM – 7:14 AM         7:45 AM – 7:59 AM   \n",
       "2      7:45 AM – 7:59 AM  7:00 AM – 7:14 AM         7:45 AM – 7:59 AM   \n",
       "3      8:45 AM – 8:59 AM  8:00 AM – 8:14 AM                  12:00 AM   \n",
       "4      8:15 AM – 8:29 AM  5:30 AM – 5:44 AM         8:45 AM – 8:59 AM   \n",
       "\n",
       "   usual_sleep_per_night  naps_per_month  length_of_average_nap  \\\n",
       "0               7.000000               0                    0.0   \n",
       "1               6.000000              25                   15.0   \n",
       "2               5.000000               0                    0.0   \n",
       "3               6.500000              10                   60.0   \n",
       "4               6.655158               1                   60.0   \n",
       "\n",
       "   employment_status  ...  highest_edu_Some college  \\\n",
       "0                  1  ...                         1   \n",
       "1                  2  ...                         0   \n",
       "2                  2  ...                         1   \n",
       "3                  2  ...                         1   \n",
       "4                  2  ...                         0   \n",
       "\n",
       "   highest_edu_Some high school  highest_edu_Vocational/Tech school  \\\n",
       "0                             0                                   0   \n",
       "1                             0                                   1   \n",
       "2                             0                                   0   \n",
       "3                             0                                   0   \n",
       "4                             0                                   0   \n",
       "\n",
       "   single_dual_household_Single income  \\\n",
       "0                                    1   \n",
       "1                                    0   \n",
       "2                                    0   \n",
       "3                                    0   \n",
       "4                                    0   \n",
       "\n",
       "   house_hold_income_bracket_$25,001 - $35,000  \\\n",
       "0                                            0   \n",
       "1                                            0   \n",
       "2                                            0   \n",
       "3                                            0   \n",
       "4                                            0   \n",
       "\n",
       "   house_hold_income_bracket_$35,001 - $50,000  \\\n",
       "0                                            1   \n",
       "1                                            1   \n",
       "2                                            0   \n",
       "3                                            1   \n",
       "4                                            0   \n",
       "\n",
       "   house_hold_income_bracket_$50,001 - $75,000  \\\n",
       "0                                            0   \n",
       "1                                            0   \n",
       "2                                            0   \n",
       "3                                            0   \n",
       "4                                            0   \n",
       "\n",
       "   house_hold_income_bracket_More than $100,000  house_hold_income_bracket_NA  \\\n",
       "0                                             0                             0   \n",
       "1                                             0                             0   \n",
       "2                                             1                             0   \n",
       "3                                             0                             0   \n",
       "4                                             1                             0   \n",
       "\n",
       "   house_hold_income_bracket_Under $15,000  \n",
       "0                                        0  \n",
       "1                                        0  \n",
       "2                                        0  \n",
       "3                                        0  \n",
       "4                                        0  \n",
       "\n",
       "[5 rows x 179 columns]"
      ]
     },
     "execution_count": 3,
     "metadata": {},
     "output_type": "execute_result"
    }
   ],
   "source": [
    "df.head()"
   ]
  },
  {
   "cell_type": "code",
   "execution_count": 4,
   "metadata": {},
   "outputs": [],
   "source": [
    "condition_col = 'has_condition'"
   ]
  },
  {
   "cell_type": "code",
   "execution_count": 5,
   "metadata": {},
   "outputs": [
    {
     "data": {
      "text/plain": [
       "(670, 179)"
      ]
     },
     "execution_count": 5,
     "metadata": {},
     "output_type": "execute_result"
    }
   ],
   "source": [
    "#Undersample non-target observations\n",
    "\n",
    "df_no = df[df[condition_col] == 0]\n",
    "df_no = df_no[:300]\n",
    "df= pd.concat([df_no, df[df[condition_col] == 1]])\n",
    "df.shape"
   ]
  },
  {
   "cell_type": "markdown",
   "metadata": {},
   "source": [
    "## Predicting - Has Condition"
   ]
  },
  {
   "cell_type": "code",
   "execution_count": 6,
   "metadata": {},
   "outputs": [],
   "source": [
    "# Select target\n",
    "y = df[condition_col]"
   ]
  },
  {
   "cell_type": "markdown",
   "metadata": {},
   "source": [
    "**Features**"
   ]
  },
  {
   "cell_type": "code",
   "execution_count": 7,
   "metadata": {},
   "outputs": [
    {
     "name": "stdout",
     "output_type": "stream",
     "text": [
      "awake_time\n",
      "start_work\n",
      "end_work\n",
      "bed_time_work_tomorrow\n",
      "no_work_awake_time\n",
      "bed_time_no_work_tomorrow\n",
      "usual_sleep_per_night\n",
      "naps_per_month\n",
      "length_of_average_nap\n",
      "employment_status\n",
      "avg_weekly_hours_worked\n",
      "snores\n",
      "treated_for_heart_disease\n",
      "treated_for_high_blood_pressure\n",
      "treated_for_diabetes\n",
      "treated_for_heartburn_GERD\n",
      "treated_for_arthritis\n",
      "treated_for_depression\n",
      "treated_for_anxiety\n",
      "age\n",
      "marital_status\n",
      "highest_edu\n",
      "single_dual_household\n",
      "house_hold_income_bracket\n",
      "unconvential_awake_time\n",
      "poor_sleep\n",
      "has_condition\n",
      "overworked\n",
      "awake_time_11:00 AM – 11:59 AM\n",
      "awake_time_12:00 AM\n",
      "awake_time_12:00 PM – 5:59 PM\n",
      "awake_time_12:01 AM – 4:59 AM\n",
      "awake_time_5:00 AM – 5:14 AM\n",
      "awake_time_5:15 AM – 5:29 AM\n",
      "awake_time_5:30 AM – 5:44 AM\n",
      "awake_time_5:45 AM – 5:59 AM\n",
      "awake_time_6:00 AM – 6:14 AM\n",
      "awake_time_6:00 PM – 11:59 PM\n",
      "awake_time_6:15 AM – 6:29 AM\n",
      "awake_time_6:30 AM – 6:44 AM\n",
      "awake_time_6:45 AM – 6:59 AM\n",
      "awake_time_7:00 AM – 7:14 AM\n",
      "awake_time_7:15 AM – 7:29 AM\n",
      "awake_time_7:30 AM – 7:44 AM\n",
      "awake_time_7:45 AM – 7:59 AM\n",
      "awake_time_8:00 AM – 8:14 AM\n",
      "awake_time_8:15 AM – 8:29 AM\n",
      "awake_time_8:30 AM – 8:44 AM\n",
      "awake_time_8:45 AM – 8:59 AM\n",
      "awake_time_9:00 AM – 9:14 AM\n",
      "awake_time_9:30 AM – 9:44 AM\n",
      "start_work_11:00 AM – 11:59 AM\n",
      "start_work_12:00 AM\n",
      "start_work_12:00 PM – 5:59 PM\n",
      "start_work_12:01 AM – 4:59 AM\n",
      "start_work_5:00 AM – 5:14 AM\n",
      "start_work_5:15 AM – 5:29 AM\n",
      "start_work_5:30 AM – 5:44 AM\n",
      "start_work_5:45 AM – 5:59 AM\n",
      "start_work_6:00 AM – 6:14 AM\n",
      "start_work_6:00 PM – 11:59 PM\n",
      "start_work_6:15 AM – 6:29 AM\n",
      "start_work_6:30 AM – 6:44 AM\n",
      "start_work_6:45 AM – 6:59 AM\n",
      "start_work_7:00 AM – 7:14 AM\n",
      "start_work_7:15 AM – 7:29 AM\n",
      "start_work_7:30 AM – 7:44 AM\n",
      "start_work_7:45 AM – 7:59 AM\n",
      "start_work_8:00 AM – 8:14 AM\n",
      "start_work_8:15 AM – 8:29 AM\n",
      "start_work_8:30 AM – 8:44 AM\n",
      "start_work_8:45 AM – 8:59 AM\n",
      "start_work_9:00 AM – 9:14 AM\n",
      "start_work_9:15 AM – 9:29 AM\n",
      "start_work_9:30 AM – 9:44 AM\n",
      "start_work_9:45 AM – 9:59 AM\n",
      "end_work_11:00 AM – 11:59 AM\n",
      "end_work_12:00 AM\n",
      "end_work_12:00 PM – 5:59 PM\n",
      "end_work_5:00 AM – 5:14 AM\n",
      "end_work_5:15 AM – 5:29 AM\n",
      "end_work_5:30 AM – 5:44 AM\n",
      "end_work_6:00 AM – 6:14 AM\n",
      "end_work_6:15 AM – 6:29 AM\n",
      "end_work_6:30 AM – 6:44 AM\n",
      "end_work_6:45 AM – 6:59 AM\n",
      "end_work_7:00 AM – 7:14 AM\n",
      "end_work_7:15 AM – 7:29 AM\n",
      "end_work_7:30 AM – 7:44 AM\n",
      "end_work_7:45 AM – 7:59 AM\n",
      "end_work_8:00 AM – 8:14 AM\n",
      "end_work_8:15 AM – 8:29 AM\n",
      "end_work_8:30 AM – 8:44 AM\n",
      "end_work_8:45 AM – 8:59 AM\n",
      "end_work_9:00 AM – 9:14 AM\n",
      "end_work_9:15 AM – 9:29 AM\n",
      "end_work_9:30 AM – 9:44 AM\n",
      "end_work_9:45 AM – 9:59 AM\n",
      "bed_time_work_tomorrow_12:01 AM – 4:59 AM\n",
      "bed_time_work_tomorrow_5:00 AM – 5:14 AM\n",
      "bed_time_work_tomorrow_5:15 AM – 5:29 AM\n",
      "bed_time_work_tomorrow_5:30 AM – 5:44 AM\n",
      "bed_time_work_tomorrow_5:45 AM – 5:59 AM\n",
      "bed_time_work_tomorrow_6:00 AM – 6:14 AM\n",
      "bed_time_work_tomorrow_6:15 AM – 6:29 AM\n",
      "bed_time_work_tomorrow_6:30 AM – 6:44 AM\n",
      "bed_time_work_tomorrow_6:45 AM – 6:59 AM\n",
      "bed_time_work_tomorrow_7:00 AM – 7:14 AM\n",
      "bed_time_work_tomorrow_7:15 AM – 7:29 AM\n",
      "bed_time_work_tomorrow_7:30 AM – 7:44 AM\n",
      "bed_time_work_tomorrow_7:45 AM – 7:59 AM\n",
      "bed_time_work_tomorrow_8:00 AM – 8:14 AM\n",
      "bed_time_work_tomorrow_8:15 AM – 8:29 AM\n",
      "bed_time_work_tomorrow_8:30 AM – 8:44 AM\n",
      "bed_time_work_tomorrow_8:45 AM – 8:59 AM\n",
      "bed_time_work_tomorrow_9:00 AM – 9:14 AM\n",
      "bed_time_work_tomorrow_9:15 AM – 9:29 AM\n",
      "bed_time_work_tomorrow_9:30 AM – 9:44 AM\n",
      "no_work_awake_time_11:00 AM – 11:59 AM\n",
      "no_work_awake_time_12:00 AM\n",
      "no_work_awake_time_12:00 PM – 5:59 PM\n",
      "no_work_awake_time_12:01 AM – 4:59 AM\n",
      "no_work_awake_time_5:00 AM – 5:14 AM\n",
      "no_work_awake_time_5:15 AM – 5:29 AM\n",
      "no_work_awake_time_5:30 AM – 5:44 AM\n",
      "no_work_awake_time_5:45 AM – 5:59 AM\n",
      "no_work_awake_time_6:00 AM – 6:14 AM\n",
      "no_work_awake_time_6:15 AM – 6:29 AM\n",
      "no_work_awake_time_6:30 AM – 6:44 AM\n",
      "no_work_awake_time_6:45 AM – 6:59 AM\n",
      "no_work_awake_time_7:00 AM – 7:14 AM\n",
      "no_work_awake_time_7:15 AM – 7:29 AM\n",
      "no_work_awake_time_7:30 AM – 7:44 AM\n",
      "no_work_awake_time_7:45 AM – 7:59 AM\n",
      "no_work_awake_time_8:00 AM – 8:14 AM\n",
      "no_work_awake_time_8:15 AM – 8:29 AM\n",
      "no_work_awake_time_8:30 AM – 8:44 AM\n",
      "no_work_awake_time_8:45 AM – 8:59 AM\n",
      "no_work_awake_time_9:00 AM – 9:14 AM\n",
      "no_work_awake_time_9:30 AM – 9:44 AM\n",
      "no_work_awake_time_9:45 AM – 9:59 AM\n",
      "bed_time_no_work_tomorrow_12:01 AM – 4:59 AM\n",
      "bed_time_no_work_tomorrow_5:00 AM – 5:14 AM\n",
      "bed_time_no_work_tomorrow_5:15 AM – 5:29 AM\n",
      "bed_time_no_work_tomorrow_5:30 AM – 5:44 AM\n",
      "bed_time_no_work_tomorrow_6:00 AM – 6:14 AM\n",
      "bed_time_no_work_tomorrow_6:15 AM – 6:29 AM\n",
      "bed_time_no_work_tomorrow_6:30 AM – 6:44 AM\n",
      "bed_time_no_work_tomorrow_6:45 AM – 6:59 AM\n",
      "bed_time_no_work_tomorrow_7:00 AM – 7:14 AM\n",
      "bed_time_no_work_tomorrow_7:15 AM – 7:29 AM\n",
      "bed_time_no_work_tomorrow_7:30 AM – 7:44 AM\n",
      "bed_time_no_work_tomorrow_7:45 AM – 7:59 AM\n",
      "bed_time_no_work_tomorrow_8:00 AM – 8:14 AM\n",
      "bed_time_no_work_tomorrow_8:15 AM – 8:29 AM\n",
      "bed_time_no_work_tomorrow_8:30 AM – 8:44 AM\n",
      "bed_time_no_work_tomorrow_8:45 AM – 8:59 AM\n",
      "bed_time_no_work_tomorrow_9:00 AM – 9:14 AM\n",
      "bed_time_no_work_tomorrow_9:15 AM – 9:29 AM\n",
      "bed_time_no_work_tomorrow_9:30 AM – 9:44 AM\n",
      "marital_status_Living with someone\n",
      "marital_status_Married_partnered\n",
      "marital_status_N/A\n",
      "marital_status_Separated\n",
      "marital_status_Single\n",
      "marital_status_Widowed\n",
      "highest_edu_Advanced degree\n",
      "highest_edu_Graduated college\n",
      "highest_edu_Graduated high school\n",
      "highest_edu_Some college\n",
      "highest_edu_Some high school\n",
      "highest_edu_Vocational/Tech school\n",
      "single_dual_household_Single income\n",
      "house_hold_income_bracket_$25,001 - $35,000\n",
      "house_hold_income_bracket_$35,001 - $50,000\n",
      "house_hold_income_bracket_$50,001 - $75,000\n",
      "house_hold_income_bracket_More than $100,000\n",
      "house_hold_income_bracket_NA\n",
      "house_hold_income_bracket_Under $15,000\n"
     ]
    }
   ],
   "source": [
    "for i in df.columns:\n",
    "    print(i)"
   ]
  },
  {
   "cell_type": "code",
   "execution_count": 8,
   "metadata": {},
   "outputs": [],
   "source": [
    "#Select independent variables\n",
    "X = df[['usual_sleep_per_night','unconvential_awake_time', 'naps_per_month', 'length_of_average_nap']]"
   ]
  },
  {
   "cell_type": "code",
   "execution_count": 9,
   "metadata": {
    "scrolled": true
   },
   "outputs": [
    {
     "name": "stdout",
     "output_type": "stream",
     "text": [
      "usual_sleep_per_night\n",
      "unconvential_awake_time\n",
      "naps_per_month\n",
      "length_of_average_nap\n"
     ]
    }
   ],
   "source": [
    "for i in X.columns:\n",
    "    print(i)"
   ]
  },
  {
   "cell_type": "markdown",
   "metadata": {},
   "source": [
    "**Baseline:**"
   ]
  },
  {
   "cell_type": "code",
   "execution_count": 10,
   "metadata": {},
   "outputs": [
    {
     "data": {
      "text/plain": [
       "0.5522388059701493"
      ]
     },
     "execution_count": 10,
     "metadata": {},
     "output_type": "execute_result"
    }
   ],
   "source": [
    "#Find the baseline score\n",
    "\n",
    "df[condition_col].value_counts(normalize = True)[1]"
   ]
  },
  {
   "cell_type": "markdown",
   "metadata": {},
   "source": [
    "**Spilt the data into test/train**"
   ]
  },
  {
   "cell_type": "code",
   "execution_count": 11,
   "metadata": {},
   "outputs": [],
   "source": [
    "X_train, X_test, y_train, y_test = train_test_split(X, y, test_size = .2, random_state = 42)"
   ]
  },
  {
   "cell_type": "markdown",
   "metadata": {},
   "source": [
    "**Use SMOTE to fix class imbalances**"
   ]
  },
  {
   "cell_type": "code",
   "execution_count": 12,
   "metadata": {},
   "outputs": [],
   "source": [
    "# os = SMOTE(k_neighbors=3, sampling_strategy='auto', n_jobs = -1)\n",
    "# X_train, y_train = SMOTE().fit_resample(X_train, y_train)"
   ]
  },
  {
   "cell_type": "code",
   "execution_count": 13,
   "metadata": {},
   "outputs": [
    {
     "data": {
      "text/plain": [
       "1    0.565299\n",
       "0    0.434701\n",
       "Name: has_condition, dtype: float64"
      ]
     },
     "execution_count": 13,
     "metadata": {},
     "output_type": "execute_result"
    }
   ],
   "source": [
    "y_train.value_counts(normalize = True)"
   ]
  },
  {
   "cell_type": "markdown",
   "metadata": {},
   "source": [
    "**Random Forest**"
   ]
  },
  {
   "cell_type": "code",
   "execution_count": 14,
   "metadata": {},
   "outputs": [
    {
     "data": {
      "text/plain": [
       "{'bootstrap': True,\n",
       " 'class_weight': 'balanced_subsample',\n",
       " 'criterion': 'gini',\n",
       " 'max_depth': 10,\n",
       " 'min_samples_split': 5,\n",
       " 'n_estimators': 10}"
      ]
     },
     "execution_count": 14,
     "metadata": {},
     "output_type": "execute_result"
    }
   ],
   "source": [
    "#Instantiate model\n",
    "\n",
    "rf = RandomForestClassifier(random_state = 42)\n",
    "\n",
    "# Parameters for GridSearchCV\n",
    "\n",
    "prms = {'max_depth':[5, 7, 8, 10, 12],\n",
    "        'bootstrap': [True, False],\n",
    "        'n_estimators': [5, 10, 100],\n",
    "        'criterion': [\"gini\", \"entropy\"],\n",
    "        'min_samples_split': [3, 5, 7],\n",
    "        'class_weight': ['balanced', 'balanced_subsample']}\n",
    "\n",
    "# Grid search\n",
    "gs_rf = GridSearchCV(rf, prms, n_jobs = -1)\n",
    "\n",
    "# Fit model on training data\n",
    "gs_rf.fit(X_train, y_train)\n",
    "\n",
    "# Best parameters from GridSearchCV\n",
    "gs_rf.best_params_"
   ]
  },
  {
   "cell_type": "code",
   "execution_count": 15,
   "metadata": {},
   "outputs": [
    {
     "data": {
      "text/plain": [
       "0.6045171339563863"
      ]
     },
     "execution_count": 15,
     "metadata": {},
     "output_type": "execute_result"
    }
   ],
   "source": [
    "gs_rf.best_score_"
   ]
  },
  {
   "cell_type": "code",
   "execution_count": 16,
   "metadata": {},
   "outputs": [],
   "source": [
    "preds = gs_rf.predict(X_test)"
   ]
  },
  {
   "cell_type": "code",
   "execution_count": 17,
   "metadata": {},
   "outputs": [
    {
     "data": {
      "text/plain": [
       "0.7257462686567164"
      ]
     },
     "execution_count": 17,
     "metadata": {},
     "output_type": "execute_result"
    }
   ],
   "source": [
    "gs_rf.score(X_train, y_train)"
   ]
  },
  {
   "cell_type": "code",
   "execution_count": 18,
   "metadata": {},
   "outputs": [
    {
     "data": {
      "text/plain": [
       "0.6492537313432836"
      ]
     },
     "execution_count": 18,
     "metadata": {},
     "output_type": "execute_result"
    }
   ],
   "source": [
    "gs_rf.score(X_test, y_test)"
   ]
  },
  {
   "cell_type": "code",
   "execution_count": 19,
   "metadata": {},
   "outputs": [
    {
     "data": {
      "image/png": "[encoded data removed]",
      "text/plain": [
       "<Figure size 432x288 with 2 Axes>"
      ]
     },
     "metadata": {
      "needs_background": "light"
     },
     "output_type": "display_data"
    }
   ],
   "source": [
    "cmx = confusion_matrix(y_test, preds)\n",
    "sns.heatmap(cmx, annot = True, fmt = '.1f', cmap = 'coolwarm');"
   ]
  },
  {
   "cell_type": "code",
   "execution_count": 20,
   "metadata": {},
   "outputs": [
    {
     "name": "stdout",
     "output_type": "stream",
     "text": [
      "Precision: 0.67\n",
      "Accuracy: 0.65\n",
      "Recall: 0.6\n",
      "F1:  0.63\n"
     ]
    }
   ],
   "source": [
    "print('Precision:', round(precision_score(y_test, preds),2))\n",
    "print('Accuracy:', round(accuracy_score(y_test, preds),2))\n",
    "print('Recall:', round(recall_score(y_test, preds),2))\n",
    "print('F1: ', round(f1_score(y_test, preds),2))"
   ]
  },
  {
   "cell_type": "markdown",
   "metadata": {},
   "source": [
    "Random forest had the best performance. The model was still overfit but not as much as KNN. It also had higher accuracy but worse f1 due to its high false positives. The confusion matrix shows higher values for true positives/negatives than false positives/negatives.\n",
    "\n",
    "Grid Searched Best Parameters:\n",
    "- bootstrap: True,\n",
    "- class_weight: balanced_subsample\n",
    "- criterion: gini,\n",
    "- max_depth: 10,\n",
    "- min_samples_split: 5,\n",
    "- n_estimators: 10"
   ]
  }
 ],
 "metadata": {
  "kernelspec": {
   "display_name": "Python 3",
   "language": "python",
   "name": "python3"
  },
  "language_info": {
   "codemirror_mode": {
    "name": "ipython",
    "version": 3
   },
   "file_extension": ".py",
   "mimetype": "text/x-python",
   "name": "python",
   "nbconvert_exporter": "python",
   "pygments_lexer": "ipython3",
   "version": "3.8.5"
  }
 },
 "nbformat": 4,
 "nbformat_minor": 4
}
