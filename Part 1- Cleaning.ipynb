{
 "cells": [
  {
   "cell_type": "markdown",
   "metadata": {},
   "source": [
    "## Imports"
   ]
  },
  {
   "cell_type": "code",
   "execution_count": 1,
   "metadata": {},
   "outputs": [],
   "source": [
    "import numpy as np\n",
    "import pandas as pd"
   ]
  },
  {
   "cell_type": "markdown",
   "metadata": {},
   "source": [
    "## Data"
   ]
  },
  {
   "cell_type": "code",
   "execution_count": 2,
   "metadata": {},
   "outputs": [],
   "source": [
    "df = pd.read_excel('./datasets/2008SleepinAmericaPollSleepPerformanceandWorkplaceRawDataExcel.xls')"
   ]
  },
  {
   "cell_type": "code",
   "execution_count": 3,
   "metadata": {
    "scrolled": true
   },
   "outputs": [
    {
     "data": {
      "text/html": [
       "<div>\n",
       "<style scoped>\n",
       "    .dataframe tbody tr th:only-of-type {\n",
       "        vertical-align: middle;\n",
       "    }\n",
       "\n",
       "    .dataframe tbody tr th {\n",
       "        vertical-align: top;\n",
       "    }\n",
       "\n",
       "    .dataframe thead th {\n",
       "        text-align: right;\n",
       "    }\n",
       "</style>\n",
       "<table border=\"1\" class=\"dataframe\">\n",
       "  <thead>\n",
       "    <tr style=\"text-align: right;\">\n",
       "      <th></th>\n",
       "      <th>caseid</th>\n",
       "      <th>year</th>\n",
       "      <th>response</th>\n",
       "      <th>intvwr</th>\n",
       "      <th>market</th>\n",
       "      <th>region</th>\n",
       "      <th>tz</th>\n",
       "      <th>state</th>\n",
       "      <th>fips</th>\n",
       "      <th>dma</th>\n",
       "      <th>...</th>\n",
       "      <th>d3</th>\n",
       "      <th>d4a</th>\n",
       "      <th>d4b</th>\n",
       "      <th>d4c</th>\n",
       "      <th>d4d</th>\n",
       "      <th>d4e</th>\n",
       "      <th>d5</th>\n",
       "      <th>d6</th>\n",
       "      <th>d7</th>\n",
       "      <th>d8</th>\n",
       "    </tr>\n",
       "  </thead>\n",
       "  <tbody>\n",
       "    <tr>\n",
       "      <th>0</th>\n",
       "      <td>7</td>\n",
       "      <td>2007</td>\n",
       "      <td>200709</td>\n",
       "      <td>951</td>\n",
       "      <td>ne_1</td>\n",
       "      <td>1</td>\n",
       "      <td>E</td>\n",
       "      <td>NH</td>\n",
       "      <td>33003</td>\n",
       "      <td>500</td>\n",
       "      <td>...</td>\n",
       "      <td>4</td>\n",
       "      <td>2</td>\n",
       "      <td>NaN</td>\n",
       "      <td>NaN</td>\n",
       "      <td>NaN</td>\n",
       "      <td>NaN</td>\n",
       "      <td>3</td>\n",
       "      <td>5</td>\n",
       "      <td>2</td>\n",
       "      <td>4</td>\n",
       "    </tr>\n",
       "    <tr>\n",
       "      <th>1</th>\n",
       "      <td>11</td>\n",
       "      <td>2007</td>\n",
       "      <td>200709</td>\n",
       "      <td>650</td>\n",
       "      <td>south_1</td>\n",
       "      <td>3</td>\n",
       "      <td>E</td>\n",
       "      <td>TN</td>\n",
       "      <td>47093</td>\n",
       "      <td>557</td>\n",
       "      <td>...</td>\n",
       "      <td>2</td>\n",
       "      <td>2</td>\n",
       "      <td>NaN</td>\n",
       "      <td>NaN</td>\n",
       "      <td>NaN</td>\n",
       "      <td>NaN</td>\n",
       "      <td>3</td>\n",
       "      <td>4</td>\n",
       "      <td>1</td>\n",
       "      <td>4</td>\n",
       "    </tr>\n",
       "    <tr>\n",
       "      <th>2</th>\n",
       "      <td>13</td>\n",
       "      <td>2007</td>\n",
       "      <td>200709</td>\n",
       "      <td>951</td>\n",
       "      <td>mw_1</td>\n",
       "      <td>2</td>\n",
       "      <td>E</td>\n",
       "      <td>OH</td>\n",
       "      <td>39135</td>\n",
       "      <td>542</td>\n",
       "      <td>...</td>\n",
       "      <td>1</td>\n",
       "      <td>1</td>\n",
       "      <td>1.0</td>\n",
       "      <td>2.0</td>\n",
       "      <td>1.0</td>\n",
       "      <td>2.0</td>\n",
       "      <td>3</td>\n",
       "      <td>5</td>\n",
       "      <td>1</td>\n",
       "      <td>6</td>\n",
       "    </tr>\n",
       "    <tr>\n",
       "      <th>3</th>\n",
       "      <td>14</td>\n",
       "      <td>2007</td>\n",
       "      <td>200709</td>\n",
       "      <td>969</td>\n",
       "      <td>mw_1</td>\n",
       "      <td>2</td>\n",
       "      <td>E</td>\n",
       "      <td>MI</td>\n",
       "      <td>26069</td>\n",
       "      <td>513</td>\n",
       "      <td>...</td>\n",
       "      <td>1</td>\n",
       "      <td>2</td>\n",
       "      <td>NaN</td>\n",
       "      <td>NaN</td>\n",
       "      <td>NaN</td>\n",
       "      <td>NaN</td>\n",
       "      <td>3</td>\n",
       "      <td>5</td>\n",
       "      <td>1</td>\n",
       "      <td>4</td>\n",
       "    </tr>\n",
       "    <tr>\n",
       "      <th>4</th>\n",
       "      <td>15</td>\n",
       "      <td>2007</td>\n",
       "      <td>200709</td>\n",
       "      <td>928</td>\n",
       "      <td>south_1</td>\n",
       "      <td>3</td>\n",
       "      <td>E</td>\n",
       "      <td>SC</td>\n",
       "      <td>45083</td>\n",
       "      <td>567</td>\n",
       "      <td>...</td>\n",
       "      <td>1</td>\n",
       "      <td>1</td>\n",
       "      <td>1.0</td>\n",
       "      <td>1.0</td>\n",
       "      <td>2.0</td>\n",
       "      <td>2.0</td>\n",
       "      <td>5</td>\n",
       "      <td>6</td>\n",
       "      <td>1</td>\n",
       "      <td>6</td>\n",
       "    </tr>\n",
       "  </tbody>\n",
       "</table>\n",
       "<p>5 rows × 217 columns</p>\n",
       "</div>"
      ],
      "text/plain": [
       "   caseid  year  response  intvwr   market  region tz state   fips  dma  ...  \\\n",
       "0       7  2007    200709     951     ne_1       1  E    NH  33003  500  ...   \n",
       "1      11  2007    200709     650  south_1       3  E    TN  47093  557  ...   \n",
       "2      13  2007    200709     951     mw_1       2  E    OH  39135  542  ...   \n",
       "3      14  2007    200709     969     mw_1       2  E    MI  26069  513  ...   \n",
       "4      15  2007    200709     928  south_1       3  E    SC  45083  567  ...   \n",
       "\n",
       "   d3  d4a  d4b  d4c  d4d  d4e  d5  d6  d7  d8  \n",
       "0   4    2  NaN  NaN  NaN  NaN   3   5   2   4  \n",
       "1   2    2  NaN  NaN  NaN  NaN   3   4   1   4  \n",
       "2   1    1  1.0  2.0  1.0  2.0   3   5   1   6  \n",
       "3   1    2  NaN  NaN  NaN  NaN   3   5   1   4  \n",
       "4   1    1  1.0  1.0  2.0  2.0   5   6   1   6  \n",
       "\n",
       "[5 rows x 217 columns]"
      ]
     },
     "execution_count": 3,
     "metadata": {},
     "output_type": "execute_result"
    }
   ],
   "source": [
    "df.head()"
   ]
  },
  {
   "cell_type": "code",
   "execution_count": 4,
   "metadata": {},
   "outputs": [
    {
     "data": {
      "text/plain": [
       "caseid        int64\n",
       "year          int64\n",
       "response      int64\n",
       "intvwr        int64\n",
       "market       object\n",
       "             ...   \n",
       "d4e         float64\n",
       "d5            int64\n",
       "d6            int64\n",
       "d7            int64\n",
       "d8            int64\n",
       "Length: 217, dtype: object"
      ]
     },
     "execution_count": 4,
     "metadata": {},
     "output_type": "execute_result"
    }
   ],
   "source": [
    "df.dtypes"
   ]
  },
  {
   "cell_type": "markdown",
   "metadata": {},
   "source": [
    "## Drop and Rename Columns"
   ]
  },
  {
   "cell_type": "markdown",
   "metadata": {},
   "source": [
    "Each column in the data is labeled based on it's question number from the initial questionnaire. Useful columns pertaining to sleep, work times, income, marital status and age are kept and renamed appropriately."
   ]
  },
  {
   "cell_type": "code",
   "execution_count": 5,
   "metadata": {},
   "outputs": [],
   "source": [
    "#Drop unneccessary columns\n",
    "cols_to_keep = ['q1','q2', 'q3','q4', 'q5', 'q6', 'q7', 'q9',\n",
    "                'q10', 'qs2', 'qs3', 'q28a', 'q28b', 'q28c', \n",
    "                'q28d', 'q28e','q28f', 'q28g', 'd2', 'd3', 'd6', 'd7', 'd8']\n",
    "\n",
    "df = df[cols_to_keep]"
   ]
  },
  {
   "cell_type": "code",
   "execution_count": 6,
   "metadata": {},
   "outputs": [],
   "source": [
    "#Rename columns\n",
    "df.rename(columns = {'q1':'awake_time',\n",
    "                     'q2':'start_work', \n",
    "                     'q3':'end_work',\n",
    "                     'q4':'bed_time_work_tomorrow', \n",
    "                     'q5':'no_work_awake_time', \n",
    "                     'q6':'bed_time_no_work_tomorrow', \n",
    "                     'q7':'usual_sleep_per_night', \n",
    "                     'q9': 'naps_per_month',\n",
    "                     'q10': 'length_of_average_nap',\n",
    "                     'qs2': 'employment_status', \n",
    "                     'qs3': 'avg_weekly_hours_worked', \n",
    "                     'q28a': 'treated_for_heart_disease', \n",
    "                     'q28b':'treated_for_high_blood_pressure', \n",
    "                     'q28c': 'treated_for_diabetes', \n",
    "                     'q28d':'treated_for_heartburn_GERD',\n",
    "                     'q28e':'treated_for_arthritis',\n",
    "                     'q28f': 'treated_for_depression',\n",
    "                     'q28g': 'treated_for_anxiety',\n",
    "                     'd2':'age', \n",
    "                     'd3':'marital_status',\n",
    "                     'd6':'highest_edu', \n",
    "                     'd7':'single_dual_household', \n",
    "                     'd8':'house_hold_income_bracket'}, inplace = True)"
   ]
  },
  {
   "cell_type": "markdown",
   "metadata": {},
   "source": [
    "## Nulls"
   ]
  },
  {
   "cell_type": "markdown",
   "metadata": {},
   "source": [
    "There are no nulls except for in 'length_of_average_nap'. After going off the values in the dataset, as well the questionnaire, it appears that these were left blank because the participant does not nap. They are convereted to 0s."
   ]
  },
  {
   "cell_type": "code",
   "execution_count": 7,
   "metadata": {},
   "outputs": [
    {
     "data": {
      "text/plain": [
       "awake_time                           0\n",
       "start_work                           0\n",
       "end_work                             0\n",
       "bed_time_work_tomorrow               0\n",
       "no_work_awake_time                   0\n",
       "bed_time_no_work_tomorrow            0\n",
       "usual_sleep_per_night                0\n",
       "naps_per_month                       0\n",
       "length_of_average_nap              461\n",
       "employment_status                    0\n",
       "avg_weekly_hours_worked              0\n",
       "treated_for_heart_disease            0\n",
       "treated_for_high_blood_pressure      0\n",
       "treated_for_diabetes                 0\n",
       "treated_for_heartburn_GERD           0\n",
       "treated_for_arthritis                0\n",
       "treated_for_depression               0\n",
       "treated_for_anxiety                  0\n",
       "age                                  0\n",
       "marital_status                       0\n",
       "highest_edu                          0\n",
       "single_dual_household                0\n",
       "house_hold_income_bracket            0\n",
       "dtype: int64"
      ]
     },
     "execution_count": 7,
     "metadata": {},
     "output_type": "execute_result"
    }
   ],
   "source": [
    "#Check for nulls\n",
    "\n",
    "df.isnull().sum()"
   ]
  },
  {
   "cell_type": "code",
   "execution_count": 8,
   "metadata": {},
   "outputs": [
    {
     "data": {
      "text/plain": [
       "0"
      ]
     },
     "execution_count": 8,
     "metadata": {},
     "output_type": "execute_result"
    }
   ],
   "source": [
    "#Fill null values with 0's\n",
    "\n",
    "df.fillna(0, inplace= True)\n",
    "df.isnull().sum().sum()"
   ]
  },
  {
   "cell_type": "markdown",
   "metadata": {},
   "source": [
    "## Time Range Columns"
   ]
  },
  {
   "cell_type": "markdown",
   "metadata": {},
   "source": [
    "**Map correct values for time ranges**"
   ]
  },
  {
   "cell_type": "markdown",
   "metadata": {},
   "source": [
    "'awake_time','start_work','end_work','bed_time_work_tomorrow','no_work_awake_time', bed_time_no_work_tomorrow' have numerical values that correspond to time ranges. A dictionary is created to map the correct values over their corresponding integers."
   ]
  },
  {
   "cell_type": "code",
   "execution_count": 9,
   "metadata": {},
   "outputs": [],
   "source": [
    "#Map category values over coresponding numbers:\n",
    "\n",
    "time_dict = {\n",
    "1 : '12:00 AM', \n",
    "2 : '12:01 AM – 4:59 AM',\n",
    "3 : '5:00 AM – 5:14 AM',\n",
    "4 : '5:15 AM – 5:29 AM',\n",
    "5 : '5:30 AM – 5:44 AM',\n",
    "6 : '5:45 AM – 5:59 AM',\n",
    "7 : '6:00 AM – 6:14 AM',\n",
    "8 : '6:15 AM – 6:29 AM',\n",
    "9 : '6:30 AM – 6:44 AM',\n",
    "10 : '6:45 AM – 6:59 AM',\n",
    "11 : '7:00 AM – 7:14 AM',\n",
    "12 : '7:15 AM – 7:29 AM',\n",
    "13 : '7:30 AM – 7:44 AM',\n",
    "14 : '7:45 AM – 7:59 AM',\n",
    "15 : '8:00 AM – 8:14 AM',\n",
    "16 : '8:15 AM – 8:29 AM',\n",
    "17 : '8:30 AM – 8:44 AM',\n",
    "18 : '8:45 AM – 8:59 AM',\n",
    "19 : '9:00 AM – 9:14 AM',\n",
    "20 : '9:15 AM – 9:29 AM',\n",
    "21 : '9:30 AM – 9:44 AM',\n",
    "22 : '9:45 AM – 9:59 AM',\n",
    "23 : '10:00 AM – 10:59 AM',\n",
    "24 : '11:00 AM – 11:59 AM',\n",
    "25 : '12:00 PM – 5:59 PM',\n",
    "26 : '6:00 PM – 11:59 PM',\n",
    "98 : 'NA',\n",
    "99 : 'NA',\n",
    "}\n",
    "\n",
    "\n",
    "for i in ['awake_time','start_work','end_work',\n",
    "          'bed_time_work_tomorrow','no_work_awake_time',\n",
    "          'bed_time_no_work_tomorrow']:\n",
    "    df[i] = df[i].map(time_dict)\n",
    "\n",
    "#https://stackoverflow.com/questions/20250771/remap-values-in-pandas-column-with-a-dict"
   ]
  },
  {
   "cell_type": "markdown",
   "metadata": {},
   "source": [
    "**Time range column non-answers**"
   ]
  },
  {
   "cell_type": "markdown",
   "metadata": {},
   "source": [
    "For each of these columns, there are a few 98s and 99s (refused/don't know). The mode is used instead."
   ]
  },
  {
   "cell_type": "code",
   "execution_count": 10,
   "metadata": {},
   "outputs": [],
   "source": [
    "# Replace non-answers with mode of columns\n",
    "\n",
    "for i in ['awake_time','start_work','end_work',\n",
    "          'bed_time_work_tomorrow','no_work_awake_time',\n",
    "          'bed_time_no_work_tomorrow']:\n",
    "    df[i] = [df[i].mode()[0] if x == 'NA' else x for x in df[i]]"
   ]
  },
  {
   "cell_type": "markdown",
   "metadata": {},
   "source": [
    "**Create column of convential awake times**\n",
    "\n",
    "All awake_time time ranges outside of 5:00AM - 10:30AM are considered unconventional.  "
   ]
  },
  {
   "cell_type": "code",
   "execution_count": 11,
   "metadata": {},
   "outputs": [],
   "source": [
    "df['unconvential_awake_time'] = [0 if x in ['6:00 AM – 6:14 AM',\n",
    "                                            '5:00 AM – 5:14 AM',\n",
    "                                            '5:30 AM – 5:44 AM',\n",
    "                                            '6:30 AM – 6:44 AM',\n",
    "                                            '7:00 AM – 7:14 AM',\n",
    "                                            '8:00 AM – 8:14 AM',\n",
    "                                            '6:15 AM – 6:29 AM',\n",
    "                                            '7:30 AM – 7:44 AM',\n",
    "                                            '5:45 AM – 5:59 AM',\n",
    "                                            '6:45 AM – 6:59 AM',\n",
    "                                            '5:15 AM – 5:29 AM',\n",
    "                                            '9:00 AM – 9:14 AM',\n",
    "                                            '10:00 AM – 10:59 AM',\n",
    "                                            '8:30 AM – 8:44 AM',\n",
    "                                            '7:45 AM – 7:59 AM',\n",
    "                                            '8:15 AM – 8:29 AM',\n",
    "                                            '8:45 AM – 8:59 AM',\n",
    "                                            '9:30 AM – 9:44 AM'\n",
    "                                           ] else 1 for x in df['awake_time']]"
   ]
  },
  {
   "cell_type": "markdown",
   "metadata": {},
   "source": [
    "## Health Conditions"
   ]
  },
  {
   "cell_type": "markdown",
   "metadata": {},
   "source": [
    "**Binarize 'treated' columns and select impute strategy**\n",
    "\n",
    "Health conditions are currently binary 1 & 2 but should be 0 & 1. Non-answers (98s/99s) are given the mode."
   ]
  },
  {
   "cell_type": "code",
   "execution_count": 12,
   "metadata": {},
   "outputs": [],
   "source": [
    "#Binarize 'treated_for' columns. Refused or unknown values are given the mode, '0'.\n",
    "\n",
    "for i in ['treated_for_heart_disease', 'treated_for_high_blood_pressure', 'treated_for_diabetes', \n",
    "         'treated_for_heartburn_GERD','treated_for_arthritis', 'treated_for_depression',\n",
    "          'treated_for_anxiety']:\n",
    "    df[i] = df[i].apply(lambda x : 1 if x == 1 else 0)\n"
   ]
  },
  {
   "cell_type": "markdown",
   "metadata": {},
   "source": [
    "## Other Categorical columns"
   ]
  },
  {
   "cell_type": "markdown",
   "metadata": {},
   "source": [
    "**Marital**"
   ]
  },
  {
   "cell_type": "code",
   "execution_count": 13,
   "metadata": {},
   "outputs": [],
   "source": [
    "# Mapping actual values\n",
    "\n",
    "marital_dict = {\n",
    "    1: 'Married_partnered',\n",
    "    2: 'Single',\n",
    "    3: 'Living with someone',\n",
    "    4: 'Divorced',\n",
    "    5: 'Separated', \n",
    "    6: 'Widowed',\n",
    "    98:'N/A'\n",
    "}\n",
    "\n",
    "df['marital_status'] = df['marital_status'].map(marital_dict)"
   ]
  },
  {
   "cell_type": "markdown",
   "metadata": {},
   "source": [
    "**Highest level of education**"
   ]
  },
  {
   "cell_type": "code",
   "execution_count": 14,
   "metadata": {},
   "outputs": [],
   "source": [
    "# Map actual values\n",
    "\n",
    "edu_dict = {\n",
    "    1: '8th grade or <',\n",
    "    2: 'Some high school',\n",
    "    3: 'Graduated high school',\n",
    "    4: 'Vocational/Tech school',\n",
    "    5: 'Some college',\n",
    "    6: 'Graduated college',\n",
    "    7: 'Advanced degree',\n",
    "    98: 'NA',\n",
    "    99: 'NA'\n",
    "}\n",
    "\n",
    "df['highest_edu'] = df['highest_edu'].map(edu_dict)"
   ]
  },
  {
   "cell_type": "markdown",
   "metadata": {},
   "source": [
    "**Single/dual household:**"
   ]
  },
  {
   "cell_type": "code",
   "execution_count": 15,
   "metadata": {},
   "outputs": [],
   "source": [
    "# Map actual values\n",
    "\n",
    "household_dict = {\n",
    "    1: 'Dual income ',\n",
    "    2: 'Single income',\n",
    "    3: 'Refused',\n",
    "    98: 'NA',\n",
    "    99: 'NA'\n",
    "}\n",
    "\n",
    "df['single_dual_household'] = df['single_dual_household'].map(household_dict)"
   ]
  },
  {
   "cell_type": "markdown",
   "metadata": {},
   "source": [
    "**Income**"
   ]
  },
  {
   "cell_type": "code",
   "execution_count": 16,
   "metadata": {},
   "outputs": [],
   "source": [
    "# Map actual values\n",
    "\n",
    "income_dict = {\n",
    "    1: 'Under $15,000',\n",
    "    2: '$15,000 - $25,000',\n",
    "    3: '$25,001 - $35,000',\n",
    "    4: '$35,001 - $50,000',\n",
    "    5: '$50,001 - $75,000',\n",
    "    6: 'More than $100,000',\n",
    "    7: 'NA',\n",
    "    98: 'NA',\n",
    "    99: 'NA'\n",
    "}\n",
    "\n",
    "df['house_hold_income_bracket'] = df['house_hold_income_bracket'].map(income_dict)"
   ]
  },
  {
   "cell_type": "markdown",
   "metadata": {},
   "source": [
    "**Using column mode for non-answers**"
   ]
  },
  {
   "cell_type": "code",
   "execution_count": 17,
   "metadata": {},
   "outputs": [],
   "source": [
    "# Fill 'NA' values with column mode\n",
    "\n",
    "for i in df.select_dtypes(include = 'O'):\n",
    "    df[i] = [df[i].mode()[0] if 'NA' in x else x for x in df[i]]"
   ]
  },
  {
   "cell_type": "markdown",
   "metadata": {},
   "source": [
    "## Other Numerical Columns"
   ]
  },
  {
   "cell_type": "markdown",
   "metadata": {},
   "source": [
    "Use the mode for non-answers in 'usual_sleep_per_night', 'avg_weekly_hours_worked', and 'age'"
   ]
  },
  {
   "cell_type": "code",
   "execution_count": 18,
   "metadata": {},
   "outputs": [],
   "source": [
    "# Use mode for 98/99 values\n",
    "\n",
    "for i in ['usual_sleep_per_night', 'avg_weekly_hours_worked', 'age']:\n",
    "    df[i] = [0 if x > 97 else x for x in df[i]]\n",
    "    \n",
    "\n",
    "for i in ['usual_sleep_per_night', 'avg_weekly_hours_worked', 'age']:\n",
    "     df[i] = [df[df[i] != 0][i].mean() if x == 0 else x for x in df[i]]"
   ]
  },
  {
   "cell_type": "markdown",
   "metadata": {},
   "source": [
    "**Naps**"
   ]
  },
  {
   "cell_type": "markdown",
   "metadata": {},
   "source": [
    "Use the mean for non-answers (998s/999s)"
   ]
  },
  {
   "cell_type": "code",
   "execution_count": 19,
   "metadata": {},
   "outputs": [],
   "source": [
    "df['length_of_average_nap'] = df['length_of_average_nap'].apply(lambda x: 0 if x == 998 or x == 999 else x)"
   ]
  },
  {
   "cell_type": "markdown",
   "metadata": {},
   "source": [
    "## Feature Engineering"
   ]
  },
  {
   "cell_type": "markdown",
   "metadata": {},
   "source": [
    "**poor_sleep**"
   ]
  },
  {
   "cell_type": "markdown",
   "metadata": {},
   "source": [
    "poor_sleep indicates whether the participant averages at least 7 hours of sleep."
   ]
  },
  {
   "cell_type": "code",
   "execution_count": 20,
   "metadata": {},
   "outputs": [],
   "source": [
    "df['poor_sleep'] = [0 if x >= 7 else 1 for x in df['usual_sleep_per_night']]"
   ]
  },
  {
   "cell_type": "markdown",
   "metadata": {},
   "source": [
    "**has_health_condition**"
   ]
  },
  {
   "cell_type": "markdown",
   "metadata": {},
   "source": [
    "This column indicates whether the participant has one of the health conditions asked for in the questionnaire."
   ]
  },
  {
   "cell_type": "code",
   "execution_count": 21,
   "metadata": {},
   "outputs": [
    {
     "data": {
      "text/plain": [
       "0      0\n",
       "1      0\n",
       "2      0\n",
       "3      1\n",
       "4      0\n",
       "      ..\n",
       "995    1\n",
       "996    0\n",
       "997    0\n",
       "998    1\n",
       "999    0\n",
       "Name: has_condition, Length: 1000, dtype: int64"
      ]
     },
     "execution_count": 21,
     "metadata": {},
     "output_type": "execute_result"
    }
   ],
   "source": [
    "df['has_condition'] = [0 for x in df['treated_for_anxiety']]\n",
    "for i in [x for x in df.columns if x[:7] == 'treated']:\n",
    "    df['has_condition'] += df[i]\n",
    "df['has_condition'] = [1 if x > 0 else 0 for x in df['has_condition']]\n",
    "df['has_condition']"
   ]
  },
  {
   "cell_type": "code",
   "execution_count": 22,
   "metadata": {},
   "outputs": [
    {
     "name": "stdout",
     "output_type": "stream",
     "text": [
      "awake_time\n",
      "start_work\n",
      "end_work\n",
      "bed_time_work_tomorrow\n",
      "no_work_awake_time\n",
      "bed_time_no_work_tomorrow\n",
      "usual_sleep_per_night\n",
      "naps_per_month\n",
      "length_of_average_nap\n",
      "employment_status\n",
      "avg_weekly_hours_worked\n",
      "treated_for_heart_disease\n",
      "treated_for_high_blood_pressure\n",
      "treated_for_diabetes\n",
      "treated_for_heartburn_GERD\n",
      "treated_for_arthritis\n",
      "treated_for_depression\n",
      "treated_for_anxiety\n",
      "age\n",
      "marital_status\n",
      "highest_edu\n",
      "single_dual_household\n",
      "house_hold_income_bracket\n",
      "unconvential_awake_time\n",
      "poor_sleep\n",
      "has_condition\n"
     ]
    }
   ],
   "source": [
    "for i in df.columns:\n",
    "    print(i)"
   ]
  },
  {
   "cell_type": "markdown",
   "metadata": {},
   "source": [
    "## Export"
   ]
  },
  {
   "cell_type": "markdown",
   "metadata": {},
   "source": [
    "**Export EDA dataframe**"
   ]
  },
  {
   "cell_type": "code",
   "execution_count": 23,
   "metadata": {},
   "outputs": [],
   "source": [
    "df.to_csv('./datasets/sleep_EDA.csv')"
   ]
  },
  {
   "cell_type": "markdown",
   "metadata": {},
   "source": [
    "**Export modeling dataset with dummied columns**"
   ]
  },
  {
   "cell_type": "code",
   "execution_count": 24,
   "metadata": {},
   "outputs": [
    {
     "data": {
      "text/plain": [
       "(1000, 177)"
      ]
     },
     "execution_count": 24,
     "metadata": {},
     "output_type": "execute_result"
    }
   ],
   "source": [
    "dums = df.select_dtypes('O')\n",
    "for i in dums:\n",
    "    d = pd.get_dummies(df[i],\n",
    "               prefix = i,\n",
    "               prefix_sep = '_',\n",
    "               drop_first = True)\n",
    "    df = pd.concat([df,d], axis = 1)\n",
    "df.shape"
   ]
  },
  {
   "cell_type": "code",
   "execution_count": 25,
   "metadata": {},
   "outputs": [],
   "source": [
    "df.to_csv('./datasets/sleep_Modeling.csv')"
   ]
  },
  {
   "cell_type": "code",
   "execution_count": 26,
   "metadata": {},
   "outputs": [
    {
     "name": "stdout",
     "output_type": "stream",
     "text": [
      "awake_time\n",
      "start_work\n",
      "end_work\n",
      "bed_time_work_tomorrow\n",
      "no_work_awake_time\n",
      "bed_time_no_work_tomorrow\n",
      "usual_sleep_per_night\n",
      "naps_per_month\n",
      "length_of_average_nap\n",
      "employment_status\n",
      "avg_weekly_hours_worked\n",
      "treated_for_heart_disease\n",
      "treated_for_high_blood_pressure\n",
      "treated_for_diabetes\n",
      "treated_for_heartburn_GERD\n",
      "treated_for_arthritis\n",
      "treated_for_depression\n",
      "treated_for_anxiety\n",
      "age\n",
      "marital_status\n",
      "highest_edu\n",
      "single_dual_household\n",
      "house_hold_income_bracket\n",
      "unconvential_awake_time\n",
      "poor_sleep\n",
      "has_condition\n",
      "awake_time_11:00 AM – 11:59 AM\n",
      "awake_time_12:00 AM\n",
      "awake_time_12:00 PM – 5:59 PM\n",
      "awake_time_12:01 AM – 4:59 AM\n",
      "awake_time_5:00 AM – 5:14 AM\n",
      "awake_time_5:15 AM – 5:29 AM\n",
      "awake_time_5:30 AM – 5:44 AM\n",
      "awake_time_5:45 AM – 5:59 AM\n",
      "awake_time_6:00 AM – 6:14 AM\n",
      "awake_time_6:00 PM – 11:59 PM\n",
      "awake_time_6:15 AM – 6:29 AM\n",
      "awake_time_6:30 AM – 6:44 AM\n",
      "awake_time_6:45 AM – 6:59 AM\n",
      "awake_time_7:00 AM – 7:14 AM\n",
      "awake_time_7:15 AM – 7:29 AM\n",
      "awake_time_7:30 AM – 7:44 AM\n",
      "awake_time_7:45 AM – 7:59 AM\n",
      "awake_time_8:00 AM – 8:14 AM\n",
      "awake_time_8:15 AM – 8:29 AM\n",
      "awake_time_8:30 AM – 8:44 AM\n",
      "awake_time_8:45 AM – 8:59 AM\n",
      "awake_time_9:00 AM – 9:14 AM\n",
      "awake_time_9:30 AM – 9:44 AM\n",
      "start_work_11:00 AM – 11:59 AM\n",
      "start_work_12:00 AM\n",
      "start_work_12:00 PM – 5:59 PM\n",
      "start_work_12:01 AM – 4:59 AM\n",
      "start_work_5:00 AM – 5:14 AM\n",
      "start_work_5:15 AM – 5:29 AM\n",
      "start_work_5:30 AM – 5:44 AM\n",
      "start_work_5:45 AM – 5:59 AM\n",
      "start_work_6:00 AM – 6:14 AM\n",
      "start_work_6:00 PM – 11:59 PM\n",
      "start_work_6:15 AM – 6:29 AM\n",
      "start_work_6:30 AM – 6:44 AM\n",
      "start_work_6:45 AM – 6:59 AM\n",
      "start_work_7:00 AM – 7:14 AM\n",
      "start_work_7:15 AM – 7:29 AM\n",
      "start_work_7:30 AM – 7:44 AM\n",
      "start_work_7:45 AM – 7:59 AM\n",
      "start_work_8:00 AM – 8:14 AM\n",
      "start_work_8:15 AM – 8:29 AM\n",
      "start_work_8:30 AM – 8:44 AM\n",
      "start_work_8:45 AM – 8:59 AM\n",
      "start_work_9:00 AM – 9:14 AM\n",
      "start_work_9:15 AM – 9:29 AM\n",
      "start_work_9:30 AM – 9:44 AM\n",
      "start_work_9:45 AM – 9:59 AM\n",
      "end_work_11:00 AM – 11:59 AM\n",
      "end_work_12:00 AM\n",
      "end_work_12:00 PM – 5:59 PM\n",
      "end_work_5:00 AM – 5:14 AM\n",
      "end_work_5:15 AM – 5:29 AM\n",
      "end_work_5:30 AM – 5:44 AM\n",
      "end_work_6:00 AM – 6:14 AM\n",
      "end_work_6:15 AM – 6:29 AM\n",
      "end_work_6:30 AM – 6:44 AM\n",
      "end_work_6:45 AM – 6:59 AM\n",
      "end_work_7:00 AM – 7:14 AM\n",
      "end_work_7:15 AM – 7:29 AM\n",
      "end_work_7:30 AM – 7:44 AM\n",
      "end_work_7:45 AM – 7:59 AM\n",
      "end_work_8:00 AM – 8:14 AM\n",
      "end_work_8:15 AM – 8:29 AM\n",
      "end_work_8:30 AM – 8:44 AM\n",
      "end_work_8:45 AM – 8:59 AM\n",
      "end_work_9:00 AM – 9:14 AM\n",
      "end_work_9:15 AM – 9:29 AM\n",
      "end_work_9:30 AM – 9:44 AM\n",
      "end_work_9:45 AM – 9:59 AM\n",
      "bed_time_work_tomorrow_12:01 AM – 4:59 AM\n",
      "bed_time_work_tomorrow_5:00 AM – 5:14 AM\n",
      "bed_time_work_tomorrow_5:15 AM – 5:29 AM\n",
      "bed_time_work_tomorrow_5:30 AM – 5:44 AM\n",
      "bed_time_work_tomorrow_5:45 AM – 5:59 AM\n",
      "bed_time_work_tomorrow_6:00 AM – 6:14 AM\n",
      "bed_time_work_tomorrow_6:15 AM – 6:29 AM\n",
      "bed_time_work_tomorrow_6:30 AM – 6:44 AM\n",
      "bed_time_work_tomorrow_6:45 AM – 6:59 AM\n",
      "bed_time_work_tomorrow_7:00 AM – 7:14 AM\n",
      "bed_time_work_tomorrow_7:15 AM – 7:29 AM\n",
      "bed_time_work_tomorrow_7:30 AM – 7:44 AM\n",
      "bed_time_work_tomorrow_7:45 AM – 7:59 AM\n",
      "bed_time_work_tomorrow_8:00 AM – 8:14 AM\n",
      "bed_time_work_tomorrow_8:15 AM – 8:29 AM\n",
      "bed_time_work_tomorrow_8:30 AM – 8:44 AM\n",
      "bed_time_work_tomorrow_8:45 AM – 8:59 AM\n",
      "bed_time_work_tomorrow_9:00 AM – 9:14 AM\n",
      "bed_time_work_tomorrow_9:15 AM – 9:29 AM\n",
      "bed_time_work_tomorrow_9:30 AM – 9:44 AM\n",
      "no_work_awake_time_11:00 AM – 11:59 AM\n",
      "no_work_awake_time_12:00 AM\n",
      "no_work_awake_time_12:00 PM – 5:59 PM\n",
      "no_work_awake_time_12:01 AM – 4:59 AM\n",
      "no_work_awake_time_5:00 AM – 5:14 AM\n",
      "no_work_awake_time_5:15 AM – 5:29 AM\n",
      "no_work_awake_time_5:30 AM – 5:44 AM\n",
      "no_work_awake_time_5:45 AM – 5:59 AM\n",
      "no_work_awake_time_6:00 AM – 6:14 AM\n",
      "no_work_awake_time_6:15 AM – 6:29 AM\n",
      "no_work_awake_time_6:30 AM – 6:44 AM\n",
      "no_work_awake_time_6:45 AM – 6:59 AM\n",
      "no_work_awake_time_7:00 AM – 7:14 AM\n",
      "no_work_awake_time_7:15 AM – 7:29 AM\n",
      "no_work_awake_time_7:30 AM – 7:44 AM\n",
      "no_work_awake_time_7:45 AM – 7:59 AM\n",
      "no_work_awake_time_8:00 AM – 8:14 AM\n",
      "no_work_awake_time_8:15 AM – 8:29 AM\n",
      "no_work_awake_time_8:30 AM – 8:44 AM\n",
      "no_work_awake_time_8:45 AM – 8:59 AM\n",
      "no_work_awake_time_9:00 AM – 9:14 AM\n",
      "no_work_awake_time_9:30 AM – 9:44 AM\n",
      "no_work_awake_time_9:45 AM – 9:59 AM\n",
      "bed_time_no_work_tomorrow_12:01 AM – 4:59 AM\n",
      "bed_time_no_work_tomorrow_5:00 AM – 5:14 AM\n",
      "bed_time_no_work_tomorrow_5:15 AM – 5:29 AM\n",
      "bed_time_no_work_tomorrow_5:30 AM – 5:44 AM\n",
      "bed_time_no_work_tomorrow_6:00 AM – 6:14 AM\n",
      "bed_time_no_work_tomorrow_6:15 AM – 6:29 AM\n",
      "bed_time_no_work_tomorrow_6:30 AM – 6:44 AM\n",
      "bed_time_no_work_tomorrow_6:45 AM – 6:59 AM\n",
      "bed_time_no_work_tomorrow_7:00 AM – 7:14 AM\n",
      "bed_time_no_work_tomorrow_7:15 AM – 7:29 AM\n",
      "bed_time_no_work_tomorrow_7:30 AM – 7:44 AM\n",
      "bed_time_no_work_tomorrow_7:45 AM – 7:59 AM\n",
      "bed_time_no_work_tomorrow_8:00 AM – 8:14 AM\n",
      "bed_time_no_work_tomorrow_8:15 AM – 8:29 AM\n",
      "bed_time_no_work_tomorrow_8:30 AM – 8:44 AM\n",
      "bed_time_no_work_tomorrow_8:45 AM – 8:59 AM\n",
      "bed_time_no_work_tomorrow_9:00 AM – 9:14 AM\n",
      "bed_time_no_work_tomorrow_9:15 AM – 9:29 AM\n",
      "bed_time_no_work_tomorrow_9:30 AM – 9:44 AM\n",
      "marital_status_Living with someone\n",
      "marital_status_Married_partnered\n",
      "marital_status_N/A\n",
      "marital_status_Separated\n",
      "marital_status_Single\n",
      "marital_status_Widowed\n",
      "highest_edu_Advanced degree\n",
      "highest_edu_Graduated college\n",
      "highest_edu_Graduated high school\n",
      "highest_edu_Some college\n",
      "highest_edu_Some high school\n",
      "highest_edu_Vocational/Tech school\n",
      "single_dual_household_Single income\n",
      "house_hold_income_bracket_$25,001 - $35,000\n",
      "house_hold_income_bracket_$35,001 - $50,000\n",
      "house_hold_income_bracket_$50,001 - $75,000\n",
      "house_hold_income_bracket_More than $100,000\n",
      "house_hold_income_bracket_NA\n",
      "house_hold_income_bracket_Under $15,000\n"
     ]
    }
   ],
   "source": [
    "for i in df.columns:\n",
    "    print(i)"
   ]
  }
 ],
 "metadata": {
  "kernelspec": {
   "display_name": "Python 3",
   "language": "python",
   "name": "python3"
  },
  "language_info": {
   "codemirror_mode": {
    "name": "ipython",
    "version": 3
   },
   "file_extension": ".py",
   "mimetype": "text/x-python",
   "name": "python",
   "nbconvert_exporter": "python",
   "pygments_lexer": "ipython3",
   "version": "3.8.5"
  }
 },
 "nbformat": 4,
 "nbformat_minor": 4
}
